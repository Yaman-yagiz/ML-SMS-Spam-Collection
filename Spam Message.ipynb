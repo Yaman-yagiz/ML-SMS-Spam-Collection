{
 "cells": [
  {
   "cell_type": "markdown",
   "metadata": {},
   "source": [
    "<h1 style=\"color:red;text-align:center;\" >SMS Spam Collection Data Set</h1>\n",
    "<p style=\"color:darkblue;\">Bu veri setinde cep telefonlarımıza gelen mesaj sınıflandırması ve bu mesajların kelime uzunluğu, noktalama işaretleri, karakter sayısı gibi unsurlar göz önüne alındırılarak \"spam\" mesaj mı yoksa \"spam olmayan normal\" bir mesaj mı olduğunun çıkarımı yapılır. </p>\n",
    "<p style=\"color:darkblue;\">Spamı kısaca istenmeyen mesaj olarak tanımlayabiliriz. Spam mesajlar genellikle reklam amaçlıdır ve yine genellikle tekrarlayan mesajlardır. Ayrıca kullanıcı kandırmak,yanıltmak için de kullanılabilirler. Bu yüzden burada telefonumuza veya email'imize gelen mesajların spam mesaj olup olmadığı bilmek önemli ve gereklidir. </p>\n",
    "<p style=\"color:darkblue;\">Aşağıda ele aldığım veri seti hakkında daha fazla bilgi edinmek için <a href=\"https://archive.ics.uci.edu/ml/datasets/SMS+Spam+Collection#\">tıklayınız.</a></p>"
   ]
  },
  {
   "cell_type": "code",
   "execution_count": 1,
   "metadata": {
    "scrolled": true
   },
   "outputs": [
    {
     "name": "stdout",
     "output_type": "stream",
     "text": [
      "Python: 3.8.5 (default, Sep  3 2020, 21:29:08) [MSC v.1916 64 bit (AMD64)]\n",
      "NLTK: 3.5\n",
      "Scikit-learn: 0.23.2\n",
      "Pandas: 1.1.3\n",
      "Numpy: 1.19.2\n",
      "Matplotlib: 3.3.2\n"
     ]
    }
   ],
   "source": [
    "import sys\n",
    "import nltk\n",
    "import sklearn\n",
    "import pandas\n",
    "import numpy\n",
    "import matplotlib\n",
    "import seaborn as sns\n",
    "from IPython.display import Image\n",
    "from IPython.core.display import SVG\n",
    "\n",
    "print('Python:',sys.version)\n",
    "print('NLTK:',nltk.__version__)\n",
    "print('Scikit-learn:',sklearn.__version__)\n",
    "print('Pandas:',pandas.__version__)\n",
    "print('Numpy:',numpy.__version__)\n",
    "print('Matplotlib:',matplotlib.__version__)"
   ]
  },
  {
   "cell_type": "markdown",
   "metadata": {},
   "source": [
    "<h3 style=\"color:red;\" >1- Veri Seti Yükleme</h3>"
   ]
  },
  {
   "cell_type": "code",
   "execution_count": 2,
   "metadata": {},
   "outputs": [],
   "source": [
    "import pandas as pd\n",
    "import numpy as np\n",
    "from matplotlib import pyplot as plt"
   ]
  },
  {
   "cell_type": "code",
   "execution_count": 3,
   "metadata": {},
   "outputs": [],
   "source": [
    "df=pd.read_table(\"SMSSpamCollection\",header=None,names=[\"label\",\"message\"])\n",
    "# Veri setini yükledik."
   ]
  },
  {
   "cell_type": "code",
   "execution_count": 4,
   "metadata": {},
   "outputs": [
    {
     "name": "stdout",
     "output_type": "stream",
     "text": [
      "<class 'pandas.core.frame.DataFrame'>\n",
      "RangeIndex: 5572 entries, 0 to 5571\n",
      "Data columns (total 2 columns):\n",
      " #   Column   Non-Null Count  Dtype \n",
      "---  ------   --------------  ----- \n",
      " 0   label    5572 non-null   object\n",
      " 1   message  5572 non-null   object\n",
      "dtypes: object(2)\n",
      "memory usage: 87.2+ KB\n"
     ]
    }
   ],
   "source": [
    "df.info()\n",
    "# Veri seti ile ilgili ön bilgiler."
   ]
  },
  {
   "cell_type": "code",
   "execution_count": 5,
   "metadata": {},
   "outputs": [
    {
     "data": {
      "text/plain": [
       "(5572, 2)"
      ]
     },
     "execution_count": 5,
     "metadata": {},
     "output_type": "execute_result"
    }
   ],
   "source": [
    "df.shape"
   ]
  },
  {
   "cell_type": "code",
   "execution_count": 6,
   "metadata": {},
   "outputs": [
    {
     "data": {
      "text/html": [
       "<div>\n",
       "<style scoped>\n",
       "    .dataframe tbody tr th:only-of-type {\n",
       "        vertical-align: middle;\n",
       "    }\n",
       "\n",
       "    .dataframe tbody tr th {\n",
       "        vertical-align: top;\n",
       "    }\n",
       "\n",
       "    .dataframe thead th {\n",
       "        text-align: right;\n",
       "    }\n",
       "</style>\n",
       "<table border=\"1\" class=\"dataframe\">\n",
       "  <thead>\n",
       "    <tr style=\"text-align: right;\">\n",
       "      <th></th>\n",
       "      <th>label</th>\n",
       "      <th>message</th>\n",
       "    </tr>\n",
       "  </thead>\n",
       "  <tbody>\n",
       "    <tr>\n",
       "      <th>0</th>\n",
       "      <td>ham</td>\n",
       "      <td>Go until jurong point, crazy.. Available only ...</td>\n",
       "    </tr>\n",
       "    <tr>\n",
       "      <th>1</th>\n",
       "      <td>ham</td>\n",
       "      <td>Ok lar... Joking wif u oni...</td>\n",
       "    </tr>\n",
       "    <tr>\n",
       "      <th>2</th>\n",
       "      <td>spam</td>\n",
       "      <td>Free entry in 2 a wkly comp to win FA Cup fina...</td>\n",
       "    </tr>\n",
       "    <tr>\n",
       "      <th>3</th>\n",
       "      <td>ham</td>\n",
       "      <td>U dun say so early hor... U c already then say...</td>\n",
       "    </tr>\n",
       "    <tr>\n",
       "      <th>4</th>\n",
       "      <td>ham</td>\n",
       "      <td>Nah I don't think he goes to usf, he lives aro...</td>\n",
       "    </tr>\n",
       "  </tbody>\n",
       "</table>\n",
       "</div>"
      ],
      "text/plain": [
       "  label                                            message\n",
       "0   ham  Go until jurong point, crazy.. Available only ...\n",
       "1   ham                      Ok lar... Joking wif u oni...\n",
       "2  spam  Free entry in 2 a wkly comp to win FA Cup fina...\n",
       "3   ham  U dun say so early hor... U c already then say...\n",
       "4   ham  Nah I don't think he goes to usf, he lives aro..."
      ]
     },
     "execution_count": 6,
     "metadata": {},
     "output_type": "execute_result"
    }
   ],
   "source": [
    "df.head()"
   ]
  },
  {
   "cell_type": "code",
   "execution_count": 7,
   "metadata": {},
   "outputs": [
    {
     "data": {
      "text/plain": [
       "ham     4825\n",
       "spam     747\n",
       "Name: label, dtype: int64"
      ]
     },
     "execution_count": 7,
     "metadata": {},
     "output_type": "execute_result"
    }
   ],
   "source": [
    "# Gelen mesajların sınıf dağılımlarını inceleyelim.\n",
    "df[\"label\"]\n",
    "df[\"label\"].value_counts()"
   ]
  },
  {
   "cell_type": "markdown",
   "metadata": {},
   "source": [
    "<p style=\"color:darkblue;\">Yukarıda etiketlerini aldığımız mesaj tiplerini burada binary değer olarak tanımlayacağız. Yani \"ham=0 , spam=1\" şeklinde. Bu ileride bizim makine öğrenme algoritmamız için kolaylık ve daha basit şekilde sonuca gitmemize yarayacaktır. Bunu yapmanın pek çok yolu vardır. Ben burada map() fonksiyonunu kullanacağım.</p>"
   ]
  },
  {
   "cell_type": "code",
   "execution_count": 8,
   "metadata": {},
   "outputs": [
    {
     "data": {
      "text/html": [
       "<div>\n",
       "<style scoped>\n",
       "    .dataframe tbody tr th:only-of-type {\n",
       "        vertical-align: middle;\n",
       "    }\n",
       "\n",
       "    .dataframe tbody tr th {\n",
       "        vertical-align: top;\n",
       "    }\n",
       "\n",
       "    .dataframe thead th {\n",
       "        text-align: right;\n",
       "    }\n",
       "</style>\n",
       "<table border=\"1\" class=\"dataframe\">\n",
       "  <thead>\n",
       "    <tr style=\"text-align: right;\">\n",
       "      <th></th>\n",
       "      <th>message</th>\n",
       "      <th>labels</th>\n",
       "    </tr>\n",
       "  </thead>\n",
       "  <tbody>\n",
       "    <tr>\n",
       "      <th>0</th>\n",
       "      <td>Go until jurong point, crazy.. Available only ...</td>\n",
       "      <td>0</td>\n",
       "    </tr>\n",
       "    <tr>\n",
       "      <th>1</th>\n",
       "      <td>Ok lar... Joking wif u oni...</td>\n",
       "      <td>0</td>\n",
       "    </tr>\n",
       "    <tr>\n",
       "      <th>2</th>\n",
       "      <td>Free entry in 2 a wkly comp to win FA Cup fina...</td>\n",
       "      <td>1</td>\n",
       "    </tr>\n",
       "    <tr>\n",
       "      <th>3</th>\n",
       "      <td>U dun say so early hor... U c already then say...</td>\n",
       "      <td>0</td>\n",
       "    </tr>\n",
       "    <tr>\n",
       "      <th>4</th>\n",
       "      <td>Nah I don't think he goes to usf, he lives aro...</td>\n",
       "      <td>0</td>\n",
       "    </tr>\n",
       "    <tr>\n",
       "      <th>...</th>\n",
       "      <td>...</td>\n",
       "      <td>...</td>\n",
       "    </tr>\n",
       "    <tr>\n",
       "      <th>5567</th>\n",
       "      <td>This is the 2nd time we have tried 2 contact u...</td>\n",
       "      <td>1</td>\n",
       "    </tr>\n",
       "    <tr>\n",
       "      <th>5568</th>\n",
       "      <td>Will ü b going to esplanade fr home?</td>\n",
       "      <td>0</td>\n",
       "    </tr>\n",
       "    <tr>\n",
       "      <th>5569</th>\n",
       "      <td>Pity, * was in mood for that. So...any other s...</td>\n",
       "      <td>0</td>\n",
       "    </tr>\n",
       "    <tr>\n",
       "      <th>5570</th>\n",
       "      <td>The guy did some bitching but I acted like i'd...</td>\n",
       "      <td>0</td>\n",
       "    </tr>\n",
       "    <tr>\n",
       "      <th>5571</th>\n",
       "      <td>Rofl. Its true to its name</td>\n",
       "      <td>0</td>\n",
       "    </tr>\n",
       "  </tbody>\n",
       "</table>\n",
       "<p>5572 rows × 2 columns</p>\n",
       "</div>"
      ],
      "text/plain": [
       "                                                message  labels\n",
       "0     Go until jurong point, crazy.. Available only ...       0\n",
       "1                         Ok lar... Joking wif u oni...       0\n",
       "2     Free entry in 2 a wkly comp to win FA Cup fina...       1\n",
       "3     U dun say so early hor... U c already then say...       0\n",
       "4     Nah I don't think he goes to usf, he lives aro...       0\n",
       "...                                                 ...     ...\n",
       "5567  This is the 2nd time we have tried 2 contact u...       1\n",
       "5568               Will ü b going to esplanade fr home?       0\n",
       "5569  Pity, * was in mood for that. So...any other s...       0\n",
       "5570  The guy did some bitching but I acted like i'd...       0\n",
       "5571                         Rofl. Its true to its name       0\n",
       "\n",
       "[5572 rows x 2 columns]"
      ]
     },
     "execution_count": 8,
     "metadata": {},
     "output_type": "execute_result"
    }
   ],
   "source": [
    "df['labels'] = df['label'].map({'ham': 0, 'spam': 1})\n",
    "df.drop([\"label\"],axis=1,inplace=True)\n",
    "df"
   ]
  },
  {
   "cell_type": "code",
   "execution_count": 9,
   "metadata": {},
   "outputs": [
    {
     "name": "stdout",
     "output_type": "stream",
     "text": [
      "            labels\n",
      "count  5572.000000\n",
      "mean      0.134063\n",
      "std       0.340751\n",
      "min       0.000000\n",
      "25%       0.000000\n",
      "50%       0.000000\n",
      "75%       0.000000\n",
      "max       1.000000\n"
     ]
    }
   ],
   "source": [
    "print(df.describe())"
   ]
  },
  {
   "cell_type": "markdown",
   "metadata": {},
   "source": [
    "<h4 style=\"color:blue;\" >Veri Görselleştirme</h4>"
   ]
  },
  {
   "cell_type": "code",
   "execution_count": 10,
   "metadata": {},
   "outputs": [
    {
     "name": "stdout",
     "output_type": "stream",
     "text": [
      "Toplam ham mesaj sayısı: 4825\n",
      "Toplam spam mesaj sayısı: 747\n"
     ]
    }
   ],
   "source": [
    "print(\"Toplam ham mesaj sayısı: {}\\nToplam spam mesaj sayısı: {}\".\n",
    "      format(df['labels'].value_counts()[0],df['labels'].value_counts()[1]))"
   ]
  },
  {
   "cell_type": "code",
   "execution_count": 11,
   "metadata": {},
   "outputs": [
    {
     "data": {
      "text/plain": [
       "<AxesSubplot:>"
      ]
     },
     "execution_count": 11,
     "metadata": {},
     "output_type": "execute_result"
    },
    {
     "data": {
      "image/png": "[encoded data removed]",
      "text/plain": [
       "<Figure size 432x288 with 1 Axes>"
      ]
     },
     "metadata": {
      "needs_background": "light"
     },
     "output_type": "display_data"
    }
   ],
   "source": [
    "df['labels'].value_counts().plot.bar()"
   ]
  },
  {
   "cell_type": "markdown",
   "metadata": {},
   "source": [
    "<h4 style=\"color:blue;\" >Feature engineering(Feature Extraction) | Özellik(Değişken) Çıkarımı</h4>\n",
    "<p style=\"color:darkblue;\">Ham veri setimizdeki satır ve sutünları kullanarak bazen gerektiğinde çok işimize yaramayan verileri çıkartır veya değiştiririz. Örneğin yukarıda ham mesaj tipini '0' , spam mesaj tipini '1' olarak tanımladık. Bu örnek aslında tam olarak bu başlık altına girmesede konunun anlaşılması açısından önemi vardır.</p>\n",
    "<p style=\"color:darkblue;\">Bu başlık altında asıl olarak ilgileneceğimiz kısım yine ham veri setimizin satır ve sutünlarında bulunan verilerden yeni bir öznitelik yani yeni bir sutün elde etme işlemi olarak adlandırılabilir. Bu işlem sonucunda her zaman yeni bir öznitelik elde etmeyebilir, var olan üzerinde değişiklik yapabilir veya kullanmayacaksak bu özniteliği silebiliriz.</p>\n",
    "<p style=\"color:darkblue;\">Biz ise burada her bir satırdaki mesajlardan bunların karakter sayısını elde ederek ileride spam mesaj karakter sayısı ile ham mesaj karakter sayısı arasında bir gözlem ve bu gözleme dayalı bir öğrenme gerçekleştireceğiz.</p>"
   ]
  },
  {
   "cell_type": "code",
   "execution_count": 12,
   "metadata": {},
   "outputs": [
    {
     "data": {
      "text/html": [
       "<div>\n",
       "<style scoped>\n",
       "    .dataframe tbody tr th:only-of-type {\n",
       "        vertical-align: middle;\n",
       "    }\n",
       "\n",
       "    .dataframe tbody tr th {\n",
       "        vertical-align: top;\n",
       "    }\n",
       "\n",
       "    .dataframe thead th {\n",
       "        text-align: right;\n",
       "    }\n",
       "</style>\n",
       "<table border=\"1\" class=\"dataframe\">\n",
       "  <thead>\n",
       "    <tr style=\"text-align: right;\">\n",
       "      <th></th>\n",
       "      <th>message</th>\n",
       "      <th>labels</th>\n",
       "      <th>len</th>\n",
       "    </tr>\n",
       "  </thead>\n",
       "  <tbody>\n",
       "    <tr>\n",
       "      <th>0</th>\n",
       "      <td>Go until jurong point, crazy.. Available only ...</td>\n",
       "      <td>0</td>\n",
       "      <td>111</td>\n",
       "    </tr>\n",
       "    <tr>\n",
       "      <th>1</th>\n",
       "      <td>Ok lar... Joking wif u oni...</td>\n",
       "      <td>0</td>\n",
       "      <td>29</td>\n",
       "    </tr>\n",
       "    <tr>\n",
       "      <th>2</th>\n",
       "      <td>Free entry in 2 a wkly comp to win FA Cup fina...</td>\n",
       "      <td>1</td>\n",
       "      <td>155</td>\n",
       "    </tr>\n",
       "    <tr>\n",
       "      <th>3</th>\n",
       "      <td>U dun say so early hor... U c already then say...</td>\n",
       "      <td>0</td>\n",
       "      <td>49</td>\n",
       "    </tr>\n",
       "    <tr>\n",
       "      <th>4</th>\n",
       "      <td>Nah I don't think he goes to usf, he lives aro...</td>\n",
       "      <td>0</td>\n",
       "      <td>61</td>\n",
       "    </tr>\n",
       "    <tr>\n",
       "      <th>...</th>\n",
       "      <td>...</td>\n",
       "      <td>...</td>\n",
       "      <td>...</td>\n",
       "    </tr>\n",
       "    <tr>\n",
       "      <th>5567</th>\n",
       "      <td>This is the 2nd time we have tried 2 contact u...</td>\n",
       "      <td>1</td>\n",
       "      <td>160</td>\n",
       "    </tr>\n",
       "    <tr>\n",
       "      <th>5568</th>\n",
       "      <td>Will ü b going to esplanade fr home?</td>\n",
       "      <td>0</td>\n",
       "      <td>36</td>\n",
       "    </tr>\n",
       "    <tr>\n",
       "      <th>5569</th>\n",
       "      <td>Pity, * was in mood for that. So...any other s...</td>\n",
       "      <td>0</td>\n",
       "      <td>57</td>\n",
       "    </tr>\n",
       "    <tr>\n",
       "      <th>5570</th>\n",
       "      <td>The guy did some bitching but I acted like i'd...</td>\n",
       "      <td>0</td>\n",
       "      <td>125</td>\n",
       "    </tr>\n",
       "    <tr>\n",
       "      <th>5571</th>\n",
       "      <td>Rofl. Its true to its name</td>\n",
       "      <td>0</td>\n",
       "      <td>26</td>\n",
       "    </tr>\n",
       "  </tbody>\n",
       "</table>\n",
       "<p>5572 rows × 3 columns</p>\n",
       "</div>"
      ],
      "text/plain": [
       "                                                message  labels  len\n",
       "0     Go until jurong point, crazy.. Available only ...       0  111\n",
       "1                         Ok lar... Joking wif u oni...       0   29\n",
       "2     Free entry in 2 a wkly comp to win FA Cup fina...       1  155\n",
       "3     U dun say so early hor... U c already then say...       0   49\n",
       "4     Nah I don't think he goes to usf, he lives aro...       0   61\n",
       "...                                                 ...     ...  ...\n",
       "5567  This is the 2nd time we have tried 2 contact u...       1  160\n",
       "5568               Will ü b going to esplanade fr home?       0   36\n",
       "5569  Pity, * was in mood for that. So...any other s...       0   57\n",
       "5570  The guy did some bitching but I acted like i'd...       0  125\n",
       "5571                         Rofl. Its true to its name       0   26\n",
       "\n",
       "[5572 rows x 3 columns]"
      ]
     },
     "execution_count": 12,
     "metadata": {},
     "output_type": "execute_result"
    }
   ],
   "source": [
    "df['len']=df['message'].apply(len)\n",
    "df"
   ]
  },
  {
   "cell_type": "code",
   "execution_count": 13,
   "metadata": {},
   "outputs": [
    {
     "data": {
      "text/plain": [
       "<matplotlib.legend.Legend at 0x1a1b48e6820>"
      ]
     },
     "execution_count": 13,
     "metadata": {},
     "output_type": "execute_result"
    },
    {
     "data": {
      "image/png": "[encoded data removed]",
      "text/plain": [
       "<Figure size 432x288 with 1 Axes>"
      ]
     },
     "metadata": {
      "needs_background": "light"
     },
     "output_type": "display_data"
    }
   ],
   "source": [
    "plt.hist(df[df['labels']==0]['len'],label=\"Ham\")\n",
    "plt.hist(df[df['labels']==1]['len'],label=\"Spam\")\n",
    "plt.title(\"Lenght Histogram\")\n",
    "plt.xlabel('Message Lenght')\n",
    "plt.ylabel('Frequency')\n",
    "plt.legend()"
   ]
  },
  {
   "cell_type": "code",
   "execution_count": 14,
   "metadata": {},
   "outputs": [
    {
     "data": {
      "image/png": "[encoded data removed]",
      "text/plain": [
       "<Figure size 432x288 with 1 Axes>"
      ]
     },
     "metadata": {},
     "output_type": "display_data"
    }
   ],
   "source": [
    "is_spam=pd.value_counts(df['labels'],sort=True)\n",
    "is_spam.plot(kind=\"pie\",labels=[\"ham\", \"spam\"],autopct=\"%1.0f%%\")\n",
    "plt.title(\"SMS Distribution\")\n",
    "plt.ylabel(\"\")\n",
    "plt.show()"
   ]
  },
  {
   "cell_type": "markdown",
   "metadata": {},
   "source": [
    "<h3 style=\"color:red;\" >2- Veri Ön İşleme</h3>\n",
    "<p style=\"color:darkblue;\">Bu aşama elimizdeki corpus'ta yani verimizde bulunan büyük-küçük harf dönüşümleri, noktalama işaretlerinin silinmesi veya bunların her bir satır için sayısını elde ederek özellik çıkarımı yapılması, eğer gerekli ise az geçen kelimelerin silinmesi, tokenization, stemming ve lemmatization işlemlerinin yapıldığı aşamadır. Veriyi hazırlama aşaması da denilebilir.</p>"
   ]
  },
  {
   "cell_type": "code",
   "execution_count": 15,
   "metadata": {},
   "outputs": [
    {
     "name": "stderr",
     "output_type": "stream",
     "text": [
      "[nltk_data] Downloading package stopwords to\n",
      "[nltk_data]     C:\\Users\\User\\AppData\\Roaming\\nltk_data...\n",
      "[nltk_data]   Package stopwords is already up-to-date!\n"
     ]
    }
   ],
   "source": [
    "import re\n",
    "import nltk\n",
    "nltk.download('stopwords')\n",
    "from nltk.corpus import stopwords\n",
    "from nltk.stem.porter import PorterStemmer"
   ]
  },
  {
   "cell_type": "code",
   "execution_count": 16,
   "metadata": {},
   "outputs": [
    {
     "name": "stderr",
     "output_type": "stream",
     "text": [
      "<ipython-input-16-ed172bd38d96>:12: SettingWithCopyWarning: \n",
      "A value is trying to be set on a copy of a slice from a DataFrame\n",
      "\n",
      "See the caveats in the documentation: https://pandas.pydata.org/pandas-docs/stable/user_guide/indexing.html#returning-a-view-versus-a-copy\n",
      "  df['clean_message'][i]=message[i] # 8\n",
      "C:\\Users\\User\\anaconda3\\lib\\site-packages\\pandas\\core\\indexing.py:670: SettingWithCopyWarning: \n",
      "A value is trying to be set on a copy of a slice from a DataFrame\n",
      "\n",
      "See the caveats in the documentation: https://pandas.pydata.org/pandas-docs/stable/user_guide/indexing.html#returning-a-view-versus-a-copy\n",
      "  iloc._setitem_with_indexer(indexer, value)\n"
     ]
    },
    {
     "data": {
      "text/html": [
       "<div>\n",
       "<style scoped>\n",
       "    .dataframe tbody tr th:only-of-type {\n",
       "        vertical-align: middle;\n",
       "    }\n",
       "\n",
       "    .dataframe tbody tr th {\n",
       "        vertical-align: top;\n",
       "    }\n",
       "\n",
       "    .dataframe thead th {\n",
       "        text-align: right;\n",
       "    }\n",
       "</style>\n",
       "<table border=\"1\" class=\"dataframe\">\n",
       "  <thead>\n",
       "    <tr style=\"text-align: right;\">\n",
       "      <th></th>\n",
       "      <th>message</th>\n",
       "      <th>labels</th>\n",
       "      <th>len</th>\n",
       "      <th>clean_message</th>\n",
       "      <th>clean_message_len</th>\n",
       "    </tr>\n",
       "  </thead>\n",
       "  <tbody>\n",
       "    <tr>\n",
       "      <th>0</th>\n",
       "      <td>Go until jurong point, crazy.. Available only ...</td>\n",
       "      <td>0</td>\n",
       "      <td>111</td>\n",
       "      <td>go jurong point crazi avail bugi n great world...</td>\n",
       "      <td>76</td>\n",
       "    </tr>\n",
       "    <tr>\n",
       "      <th>1</th>\n",
       "      <td>Ok lar... Joking wif u oni...</td>\n",
       "      <td>0</td>\n",
       "      <td>29</td>\n",
       "      <td>ok lar joke wif u oni</td>\n",
       "      <td>21</td>\n",
       "    </tr>\n",
       "    <tr>\n",
       "      <th>2</th>\n",
       "      <td>Free entry in 2 a wkly comp to win FA Cup fina...</td>\n",
       "      <td>1</td>\n",
       "      <td>155</td>\n",
       "      <td>free entri wkli comp win fa cup final tkt st m...</td>\n",
       "      <td>101</td>\n",
       "    </tr>\n",
       "    <tr>\n",
       "      <th>3</th>\n",
       "      <td>U dun say so early hor... U c already then say...</td>\n",
       "      <td>0</td>\n",
       "      <td>49</td>\n",
       "      <td>u dun say earli hor u c alreadi say</td>\n",
       "      <td>35</td>\n",
       "    </tr>\n",
       "    <tr>\n",
       "      <th>4</th>\n",
       "      <td>Nah I don't think he goes to usf, he lives aro...</td>\n",
       "      <td>0</td>\n",
       "      <td>61</td>\n",
       "      <td>nah i think goe usf live around though</td>\n",
       "      <td>38</td>\n",
       "    </tr>\n",
       "  </tbody>\n",
       "</table>\n",
       "</div>"
      ],
      "text/plain": [
       "                                             message  labels  len  \\\n",
       "0  Go until jurong point, crazy.. Available only ...       0  111   \n",
       "1                      Ok lar... Joking wif u oni...       0   29   \n",
       "2  Free entry in 2 a wkly comp to win FA Cup fina...       1  155   \n",
       "3  U dun say so early hor... U c already then say...       0   49   \n",
       "4  Nah I don't think he goes to usf, he lives aro...       0   61   \n",
       "\n",
       "                                       clean_message  clean_message_len  \n",
       "0  go jurong point crazi avail bugi n great world...                 76  \n",
       "1                              ok lar joke wif u oni                 21  \n",
       "2  free entri wkli comp win fa cup final tkt st m...                101  \n",
       "3                u dun say earli hor u c alreadi say                 35  \n",
       "4             nah i think goe usf live around though                 38  "
      ]
     },
     "execution_count": 16,
     "metadata": {},
     "output_type": "execute_result"
    }
   ],
   "source": [
    "ps = PorterStemmer() \n",
    "message = []\n",
    "for i in range(0, df.shape[0]):\n",
    "    #i.split()\n",
    "    review = re.sub('[^a-zA-Z]', ' ', df['message'][i]) # 1\n",
    "    review = review.split() # 2\n",
    "    review = [ps.stem(word.lower()) for word in review if not word in stopwords.words('english')] # 3\n",
    "    review = ' '.join(review) # 4\n",
    "    message.append(review) # 5\n",
    "df['clean_message']=np.empty((len(message),1)) # 6\n",
    "for i in range(len(message)): # 7\n",
    "    df['clean_message'][i]=message[i] # 8\n",
    "df['clean_message_len']=df['clean_message'].apply(len) # 9\n",
    "df.head()"
   ]
  },
  {
   "cell_type": "markdown",
   "metadata": {},
   "source": [
    "<p style=\"color:darkblue;\">Yukarıda yapılanların kafa karıştırmaması adına her satırda yanlarına verdiğim numaralar ile açıklamalar yapmak istedim. Başlamadan önce bu işlemlerde kullandığım modülleri anlatarak başlamak isterim.</p>\n",
    "<p style=\"color:darkblue;\">re(Regular Expressions | Düzenli ifadeler): Düzenli ifadeler tüm modern dillerde bulunur, dağınık bir metin içerisinde istediğimiz formattaki metinleri yakalayabilmemize imkan tanır. Mesela, bir kaynakta geçen tüm e-posta adreslerini veya içinde rakam bulunan ve gmail uzantılı olan mail adreslerini ayıklamak için kullanabilirsiniz. Düzenli ifadeler olmasaydı ardı arkasına birçok if - else yazmak gerekebilirdi. Bu modül, birkaç saatte yapabileceğiniz bir işlemi saniyeler içerisinde sizin yerinize yapabiliyor.</p>\n",
    "<p style=\"color:darkblue;\">PorterStemmer: Bu aslında bir modülden çok nltk.stem veya nltk.porter modüllerinin altındaki bir fonksiyondur. Temel görevi 'Stemming' işlevidir. Peki bu işlev nedir ? Hatırlayalım; </p>\n",
    "<p style=\"color:darkblue;\">- Bir kelimeyi köküne indirgeme işlemini yapar.(gözlük,gözler,gözlükçü gibi kelimelerin kökünün göz olduğunu bize söylemeye yarar).</p>\n",
    "<p style=\"color:darkblue;\">- Buradaki çalışmamızda ingilizce sözcükler ile çalıştığımız için kelimelerin sonundaki (-ed,-ity gibi) takıların gitmesini beklemekteyiz.</p>\n",
    "<p style=\"color:darkblue;\"> stopwords: nltk.corpus modülü altında bir fonksiyondur. Tek başına anlamı olmayan kelimelerin(the,a,with gibi) bize metin madenciliği ve doğal dil işlemede ileride kuracağımız algoritmalarımızda bir faydası yoktur hatta anlamsal olarak bir şey ifade etmedikleri için silinmezlerse algoritma ve tahminlerin doğruluk oranlarında ciddi azalmalar görülebilir. Bu sebeple bu kelimelerin tespit edilip metinden(corpustan) çıkartılması gerekmektedir. Burada bu anlamsız kelimeler dillere göre değişiklik göstereceğinden stopwords.words('english') ile işlem yapmak istediğimiz dili de seçebiliriz. </p>"
   ]
  },
  {
   "cell_type": "markdown",
   "metadata": {},
   "source": [
    "<p style=\"color:darkblue;\"> Öncelikle for döngüsünün içerisinde df'nin satır boyutu kadar bir işlem yapmak istediğimizi belirtiyoruz. Bu sayede her satırdaki mesaja ulaşabiliyoruz.\n",
    "    #1 de yapılan işlem: review = re.sub('[^a-zA-Z]', ' ', df['message'][i]) ifadesinde re kütüphanesinden sub() fonksiyonunu kullanıyoruz. Bu fonksiyon içersine aldığı parametrelere göre karakterler üzerinde arama ve eşleştirme işlemlerini yapar ve string döndürür. Bu fonksiyon olmasaydı yapacağımız bu tür karakter işlemlerinde çokça if-else koşulları kullanmamız gerekecekti. Burada ise yaptığımız işlem df['message'][i]'nin içerisinden(bu ham ya da spam olan mesaj tutmakta) sadece a'dan z'ye kadar olan büyük küçük tüm harfler dahil olacak şekilde(ingilizce, yani ü,ö,ğ gibi harfler varsayılan olarak dahil değildir, bunları extra olarak bizim dahil etmemiz gerekir.) alıyoruz ve bu aldığımız metnin içerisindeki kelimeleri \" \" ile birleştirip eskisi gibi cümle halini koruyor fakat en önemlisi sadece a'dan z'ye karakterleri aldığımız için sayılardan ve noktalama işareti gibi işimize yaramayan karakterlerden de kurtulmuş oluyoruz. Metnin düzenlenmiş halini ise review değişkenine atıyoruz. Bu kütüphane ve bu fonksiyon sayesinde bu işlemleri sadece tek satırda yapıyoruz.\n",
    "</p>\n",
    "<p style=\"color:darkblue;\"> #2 de yapılan işlem: review = review.split() ifadesi ile review içersinde o an yer alan cümlenin her kelimesini \" \" lara göre bölerek bir liste haline getirir. Bunu yapmamızın amacı aşağısında yapacağımız Stemmer işlemine hazırlamaktır.\n",
    "</p>\n",
    "<p style=\"color:darkblue;\"> #3 de yapılan işlem: review = [ps.stem(word.lower()) for word in review if not word in stopwords.words('english')] bu satırda yine birden fazla işlemi tek satırda yapıyoruz. Öncelikle yukarıda zaten anlattığım fonksiyonlardan biri olan PorterStemmer(ps) ile burada her bir kelime için stemming işlemi yapıyoruz. Bu işlemi her kelime üzerinde yapabilmek için burada cümle içerisinde de bir döngü kurarak kelime kelime kelimelerin üzerinde geziyoruz. Bu işlem ile yukarıda da anlattığım gibi her kelimeyi köküne indirgiyor aynı zamanda her bir kelimeyi küçük harfe dönüştürüp bütün kelimleri tek bir formata indirgiyoruz. Sağ taraftaki if sorgusunda ise kelime kelime gezdiğim kelimelerden stopwords olanları yeni düzenlenmiş metnimiz olacak olan review'e dahil etmiyor hem büyük-küçük harf dönüşümü, hem stemming hem de stopwords işlemlerini tek bir satırda yapıyoruz. Bu işlemler sonucu bize liste döndürür.</p>\n",
    "<p style=\"color:darkblue;\"> #4 de yapılan işlem: review = ' '.join(review) bu işlem ile yukarıda bize liste olarak dönen review değişkenimizi aralarında \" \" olacak şekilde join() fonksiyonu ile birleştirip geri string değişken tipine çeviriyoruz.</p>\n",
    "<p style=\"color:darkblue;\"> #5 ve #6 de yapılan işlemler: message.append(review)-df['clean_message']=np.empty((len(message),1)) Bu iki işlemi birlikte ele almak gerekli, #5 te yukarıda oluşturduğumuz listenin içerisine review değişkenimizde bulunan her bir satırı ekleyerek listeyi dolduruyoruz. #6 da ise bu ön işleme aşamaları sonucu temiz mesajlarımız için df['clean_message']'ı oluşturup bunun içerisinde #5 te içerisine satır satır mesaj eklediğimiz liste'nin uzunluğu kadar rastgele değer atıyor bu sayede dataframi içine alacağı değerlerin tam sınırı olacak şekilde dolduruyoruz. Burada yaptığımız doldurma tamamen içerisinin dolması için yapılan bir eylemdir, içerisinde henüz daha düzenlenmiş, önişlenmiş mesajlar yoktur. Zaten df['clean_message']=np.empty((len(message),1)) işlemi döngü dışında yapıyoruz ki daha önce döngü içerisinde her satır bu listeye eklensin ve listenin sınırı belirli olsun. </p>\n",
    "<p style=\"color:darkblue;\"> #7 ve #8 yani diğer for döngüsü içerisindeki işlemler: for i in range(len(message)):df['clean_message'][i]=message[i] Buradaki temel amaç df['clean_message']'ın içerisini düzenlenmiş, işlenmiş mesajlar ile doldurmaktır. Bunun içinde mesajları zaten tutan listemizin boyutu kadar bir döngü içerisinde df['clean_message']'ın her bir satırına karşılık message listesinin içerisindeki her bir satır karşılık gelmektedir. Bu sayede önişlenmiş verilerimizi df['clean_message'] içerisine dolduruyoruz.\n",
    "</p>\n",
    "<p style=\"color:darkblue;\"> #9 da yapılan işlem: df['clean_message_len']=df['clean_message'].apply(len) işleminde, tıpkı eski, önişlenmemiş mesajlarımızın uzunluğunu özellik çıkarımı yaparak bulduğumuz gibi aynı işlemi yeni, önişlenmiş mesajlarımız içinde yapıyoruz ve her satırdaki karakterlerin sayısı için ayrı bir sutün oluşturup ekliyoruz.</p>"
   ]
  },
  {
   "cell_type": "markdown",
   "metadata": {},
   "source": [
    "<h3 style=\"color:red;\" >3- Veriyi Makine Öğrenmesine Hazırlamak</h3>\n",
    "<p style=\"color:darkblue;\">Aslında bakarsak makine öğrenmesine kadar yapılan her işlem veriyi makine öğrenmesine hazırlama işlemidir. Fakat burada belirtilmek istenen durum artık veri üzerinde en son işlemlerin yapıldığı, makine öğrenme algoritmalarının sonucuda etkili olacak ayarlamaların yapıldığı ve gerektiğinde bu ayarların değiştirildiği aşamadır. \n",
    "</p>"
   ]
  },
  {
   "cell_type": "markdown",
   "metadata": {},
   "source": [
    "<h4 style=\"color:black;\" >Vectorization</h4>\n",
    "<p style=\"color:darkblue;\">Aslında bu kavramın kök tanımını açıklamak gerekirse; birçok CPU'nun aynı işlemi iki, dört veya daha fazla veriye aynı anda uygulayan \"vektör\" veya \"SIMD\" komut setleri bulunur. Modern x86 yongalarında SSE yönergeleri bulunur, birçok PPC yongasında \"Altivec\" yönergeleri bulunur ve hatta bazı ARM yongalarında NEON adı verilen bir vektör komut kümesi bulunur. Burada bahsi geçen \"SIMD\",\"SSE\" ve \"Altivec\" yönergelerinin temel amacı ve hizmeti birden fazla veri nesnesi üzerinde aynı işlemlerin gerçekleştirildiği performansı artıran işlemlerdir. <a href=\"https://www.intel.com.tr/content/www/tr/tr/support/articles/000005779/processors.html\">(Bknz)</a></p>\n",
    "<p style=\"color:darkblue;\">Vektörizasyon, skaler bir programı vektör programına dönüştürmek için kullanılan terimdir. Vektörize edilmiş programlar, tek bir komuttan birden fazla işlemi çalıştırabilirken, skaler yalnızca aynı anda işlenen çiftleri üzerinde çalışabilir.</p>"
   ]
  },
  {
   "cell_type": "code",
   "execution_count": 17,
   "metadata": {
    "scrolled": true
   },
   "outputs": [
    {
     "data": {
      "image/svg+xml": [
       "<svg xmlns=\"http://www.w3.org/2000/svg\" xmlns:xlink=\"http://www.w3.org/1999/xlink\" version=\"1.1\" id=\"Layer_1\" x=\"0px\" y=\"0px\" width=\"267px\" height=\"283px\" viewBox=\"0 0 267 283\" enable-background=\"new 0 0 267 283\" xml:space=\"preserve\">  <image id=\"image0\" width=\"267\" height=\"283\" x=\"0\" y=\"0\" xlink:href=\"data:image/png;base64,iVBORw0KGgoAAAANSUhEUgAAAQsAAAEbCAMAAAD6XVH7AAAABGdBTUEAALGPC/xhBQAAACBjSFJN AAB6JgAAgIQAAPoAAACA6AAAdTAAAOpgAAA6mAAAF3CculE8AAAA+VBMVEX//////+uqZSkkJykk Zazq///qrWfOiikkis///8+HJymHzP9kreskJ4nO////zIkkJ2eq5///56xkJymHJ2eqrYlkJ2fO rWeHzM+q5+skiqyHzOuq58/OimdkJ4nq5+v8/Pz4+Pj29vb6+vr236ZhJykkJ2Sk3/bHhilhp+P2 9uOkYikkYqbi9vb2xYWDxfakYmTip2T29siDJykkhshhJ4XH9vaDJ2RhJ2Sk38iDhmSkxaYkJ4XH p2SDJ4Vhp8jHxYWDxcjHhmRhYqaDYqbi9uP/zM+quonO/8+qiimqzKzq/+vqzImHZaz/5+vq56yD hshhhsikYoVIzFShAAAAAWJLR0QAiAUdSAAAAAlwSFlzAAAOwwAADsMBx2+oZAAAAAd0SU1FB+UE AhQnHu4xynAAAAvrSURBVHja7Z0Le+I2FoZJTLiFhAQ63e6t22VJYmAGxsDOtp1022679/v+/x+z 5yIJC4xtbsHE3/c8M4CRLJ1X5xwLrKBKBYIgCIIOoYvLIAiqV5VKjf+Lqd7IrtxsXcvjat3zVLPV ZrtvbsGi0iEKahNYdO7uzTO2pxY0Kt0eBU1DWXAAEazmJ28CYSalu5/eVzpUJmgLi2br7p7rmkP0 WupcXLap5Bt+XpfzKfUii61tWBY1MlWGuhNcMwsJoNrNbbNlxl0PVK8YR4VKU+Fmq+EdYgZcV1j0 qlfUwDU9uT61oblkx7NW/YnzEQZC9nQYARmlSYVVZ+PMC7K+2fqMUbgYkUNtA7mtCPg9G0tnIBm7 WqBxoFcWYVELRO2lKRQk4gASCewXglFZ6CF7Ho2R+7NjQR0nw+9+Sv+zRQ3rF3UXGteuYJtto5zS VidoSArhGDGHlNPN7fmxYAgsdoLqFacJSXHs3HzIpLuYKbWfXbaNH3QkX1xccs6lXGMO2Qrnx4Ky Bfs4d5r7TPOMjuRPmzsbwiVmSrcnfkCQ+Bm/0e21hYU71JZrxhmykCiXANc+k1H0+ufkLvWGefM6 boq4AfkRpYZftDSR1IJr4aiH5JpMvNZYFP+auq3cVSRFv7zPcaJXoO7nmaN78avLs4iIfVUPss2s B68uGiAIgiAIgiAIgiAIgiAIgs5NX/y6X175KH5z6u4Uh8UXp+5NgViUOUBWWZy6M2BRGIEFWIAF WIAFWIAFWIAFWJyYxeAheHzaWDEc0n+j8dt327W3fY1kTYLp+rnfP+1wpjwsRuNpSr1ITEqzLBll Wo3ZXAykB34cjYNgqCda5GPRH/z2w3FYzH6XQjm7Va6eo2+xVgZffjWf6hjw0WhIR564xNeLrOr2 LNEiq71dWPDgBMGCB4BHafT+40MQG1GJEH5vY+PcrYgHzxvB1RqDh6nXKJenZibqEeKa4VAs9ByK fOYxDsGySB2/nVnY806eP/DwcE9iQeMiMz4QIdNzHSZa4YKRrXizN3QTP4qEBRWI3n4jpdivCM06 i1UIjoGO0ZFYkKfy8Kwkj9nvPyRY5in8djxM6ppH79mPIcMiXGgpfsktJTUivYvkr3sW5qFvulsE Fr5fcHwkpd9Mv5D4YIhKRuxcT8Ib/OKoLDhG6N+KVYkx4kv8m8d98OD1L8rKF5J0KWku39IqvhNt ipG0a9++LHhgaFRWR1idP3K+mSBKk9L72TwW6Gs1YtlO0vXjk70YL91MWUSxvGOLvlTuTNUWV/LR eB+/jbF9zm7yONfUzFbzTh8nwV79sxqNH7OH/GhzrQztFZnH0fHm4OUTWIAFWIDFAVjM5jkuY69J KSz2+sx3jkpjUbwZBFicnsW+s7jz00YWUckSZx9+kY8F8gVYgEUWi4N8CXNGwhw8F4vSCSzAAizA 4rgseJ3ItO9ufodm1cj2NSbxerO53jjVu462RnFZhLocw9xSdAsBUr730bUUiTUmz999P5/yTUMx 294BtHdg01cGnZqFtWStlyks/vDxh3ebaszmcvdZl1ms3Q0tNgt7k870crnKZjOL2Y9/5A+8iTXE L4bKYuH8IrSxoXVm85ea/27HYmIc3I1YtM5i4i+YoIxg1nAk1ZB8wTHC/mH9YhlPRWYR5WDhi0sO KEjSatilGsksXk5b+sWzFyM5/ELyYnwBxwYWzOG8WIzGi0wWvqQABcnufnGo1bGHZiEX/eU1dbnK ZhMLLbhc5JRYw88X0oSZi0id8KU+Lu8618p/Tc1fY8M1Nfeyl1fPQqcghWbhzY+3mIOn1bBz8MQa hWXxOgUWYAEWYLE3i9LdEUj1i8lLzXGKohQW/PGyVAKLXCzcH8yURWnXkZf7RqkYgl/kYoF8ARZg 0cdcKxcLzMFLLbAAC7AAC7AAC7AAi6OywG8fL4XfxI4Jv5Ue94wyh0kFgiAIgiAIgiAIgiAIgiAI giCoxKrd3ctjt9c2R5qta33yp1u/qHtjg7qf6qnqjVMbtaOaLWVQu7l1R9Tkzk3ZWFTqYvLFpTOg xCy6PbawQ6FycRkEZD+b3Gzd/TkIgmt37JM3wc1f6A2xU41VfPScy3AhZtHt3dzy23U6xNHXoceG YqpV/0rPmy0+bUF5GZOqVxItFCrEotlqqF/Ikzofq14JpBgLCSt7jAuSwZJ16HWNil9cVq+YARcR FkFbUMXCsXBil+D+dqj/ZEC72fqMCQgLiROB066ssWCPcoFUZxZ/kwRsx5yAdGxmZhZUlE6fEHzF EdvJ3avJLkFBm724bVjw+JJxbUkVqyzYo/RpTSKh2xP312McHNUrDp+GZSG+UmwW1Mm/cxfrYre4 uwynYyG+ksCCSnAKodxAJdkvem1xf44RThYKsiOYzoUF+TZfAWwYk8kc6isxEmPhrjmUUU3KkGNk sOaXhpjs4NJJzoYFDSz3WuygHCC5jgJf857NnYYFT806QcNVbJgZSt0Mfie4FhYNDhyTL+pn5Bdi QIWNksuo2F0LyDkobcSus/ofXSwb7oKoFTlPNGo6+JX63T29zaeq/oPjRNLGOotiXlP3gpg9ws1/ Xp26ly+jejuzyL/+/XmBI+Jg6vaqmWNOwfLqogGCIAiCIAiCIAiCIAiCIOgchL/hdsLf9i+94tS9 KRCLMgdIH78RAxZgARZgARZgARZgARZgARaFZDF4CFJ+IjzUnYO3/T31Q+30ONm8D9zo/Y4/bL6Z RfqOnbpJYZplySjTaszmgW4eKxve8b53Qz1RwtYfySy0qN3993AsVncn9BvNbI6r5+hUrJXBl1/N pzoGfDQa0pEnLvH1Ik/1/rJotNu+KZtY8ODI7p4T3ST0/ceHIDaiZodgt3vyurg/EQ+eN4KrNQYP U6/RqW5joHt3q2uGQzHNcyjyGfU5n4Upmj6M27OwJ+Q9Xml4uCexoHEhGR8B3q58yYtohQvZYNr3 Zm/MJn4UCQsqEL39RkqZDbrXWThz5UH27qVWbNEc23buxMLsG72SPNyWNZu9Mfx2PEzqk0dvZTtQ wyJcaCl+yS0lNSK9k51pnaPFikanZuH7RRTb0n4Ti0S/kPhgiEom8Lf19nvn+UWs6HFYcIwstwi2 SowRX3YTZeqp17EoK19I0qWkuXxLq/hOFGexfvZwp41XM68jkb+NtpE6fxR30VVNdBNlMjAW6Gs1 YsZIun58shfjpZupgVEs79iiG1gcPHemaotL+Gi8k8Ous82/1/CBr6mZzeWdPk6Cg2ySNhrn3ybn 8HOtDO0Wki+hI8zByyewAAuwAIsDsCjdbm8pLHb7sHfGSmNR2BkEWJyQxc7Tt7PVRhZRyRJnH36R jwXyBViARRaLcu1Ujzl4ThalE1iABViAxXFZ8DqRaX/t5neYcDtn8BBk3uSZzfU2qH9LPnHZSmgW qMx+fBcveZDubMsi1OUY5pZiSuPcP70mp9y6GY31NqO555fCgu8f60u97fz9f2j6I7cSh/1DdWc7 Frax9PVLrrVo4b1MKPlfmdym3/+036+ZRvVlGEyXa38O1J3tWNjzmMbtKhtFNLArd1xr2u0UFtF0 snAs3GIbdQ+3hMeyMMScX7x9Jyx+eLfandlcVm2ldidpvdd2LCbGB91ARDEW7m1tbb0v6qmx++yj /32QlRzWL8yj7ae3yCYyicK8lHzBMcL4VrqjLNK7sz+LKJmFh0rWCmi/tfhmv+Dy4XSNhWttYdeZ SOCbG/axr6TtUo0DdWdLv3j2YiSx8Vhrunxns1+E5lUKi7jxk0UCC+7Krt3Zi8VovEhikRgj2QMh pnMH88TIFn6RGCMr3VlZLbQDCx1YNxB2lY2ymNiFNNIaO7d2aSML6StbqAzcYhtl4ZbwiPFREBhC cRZ+vrA1lEV6d7zVQruxcEi2+J4n37rY3Eq4hbVDd5JWC5WUReJqof3m4Hma3mIOnoeEvbQeoTv4 bAYWYAEWYHFAFqW7I5DqF5PD/GXY+SiFBX8zUCqBRS4W7g9myqK064j97FsWwS9ysUC+AAuw6GOu lYsF5uClFliABViABViABViAxVFZ4LePl8JvYseE30qPe0aZw6QCefo/CcjKomY1ACwAAAAldEVY dGRhdGU6Y3JlYXRlADIwMjEtMDQtMDJUMjA6Mzk6MzArMDM6MDBt3wvYAAAAJXRFWHRkYXRlOm1v ZGlmeQAyMDIxLTA0LTAyVDIwOjM5OjMwKzAzOjAwHIKzZAAAAABJRU5ErkJggg==\"/>\n",
       "</svg>"
      ],
      "text/plain": [
       "<IPython.core.display.SVG object>"
      ]
     },
     "execution_count": 17,
     "metadata": {},
     "output_type": "execute_result"
    }
   ],
   "source": [
    "SVG(filename='Adsız2.svg')"
   ]
  },
  {
   "cell_type": "markdown",
   "metadata": {},
   "source": [
    "<p style=\"color:darkblue;\">Yani kısacası \"Vektörizasyon\", bir dizinin tek bir öğesini N kez işlemek yerine, dizinin 4 öğesini aynı anda N / 4 kez işleyecek şekilde bir döngüyü yeniden yazma işlemidir.</p>\n",
    "<p style=\"color:darkblue;\">Vektörize kodun birçok avantajı vardır, bunlar arasında:</p>\n",
    "<p style=\"color:darkblue;\">\n",
    "<ul>\n",
    "      <li>Vektörize edilmiş kod daha kısa ve okunması daha kolaydır.</li>\n",
    "      <li>Daha az kod satırı genellikle daha az hata anlamına gelir.</li>\n",
    "      <li>Vektörizasyon olmadan, kodumuz verimsiz ve döngüler için okunması zor olacaktı.</li>\n",
    "</ul>\n",
    "</p>\n",
    "<p style=\"color:darkblue;\">Bizim burada Vectorization'ı kullanmamızın nedeni de yukarıdaki nedenler olmakla birlikte zaten hali hazırda kullandığımız Numpy, dizileri işlemek için yerleşik python seçenekleriyle yapıldığında genellikle daha yavaş olan n boyutlu dizinin hızlı işlenmesi için vektörleştirmeyi kullanmaktadır. Bu sayede kodumuz ileride geliştireceğimiz makine öğrenmesi algoritmasını da darboğaza sokmaz ve hem işlemciyi hemde derleyici verimli halde kullanılırız.</p>\n"
   ]
  },
  {
   "cell_type": "code",
   "execution_count": 18,
   "metadata": {},
   "outputs": [
    {
     "data": {
      "text/plain": [
       "0       go jurong point crazi avail bugi n great world...\n",
       "1                                   ok lar joke wif u oni\n",
       "2       free entri wkli comp win fa cup final tkt st m...\n",
       "3                     u dun say earli hor u c alreadi say\n",
       "4                  nah i think goe usf live around though\n",
       "                              ...                        \n",
       "5567    thi nd time tri contact u u pound prize claim ...\n",
       "5568                           will b go esplanad fr home\n",
       "5569                                 piti mood so suggest\n",
       "5570    the guy bitch i act like interest buy someth e...\n",
       "5571                                    rofl it true name\n",
       "Name: clean_message, Length: 5572, dtype: object"
      ]
     },
     "execution_count": 18,
     "metadata": {},
     "output_type": "execute_result"
    }
   ],
   "source": [
    "# Verilerimizi X,Y olarak bölyoruz. X'de modelimizi eğitmek için bulunan mesajları,\n",
    "# Y'de ise bu mesajların hangi tür olduğunu tutuyoruz.\n",
    "X=df[\"clean_message\"]\n",
    "X"
   ]
  },
  {
   "cell_type": "code",
   "execution_count": 19,
   "metadata": {},
   "outputs": [
    {
     "data": {
      "text/plain": [
       "0       0\n",
       "1       0\n",
       "2       1\n",
       "3       0\n",
       "4       0\n",
       "       ..\n",
       "5567    1\n",
       "5568    0\n",
       "5569    0\n",
       "5570    0\n",
       "5571    0\n",
       "Name: labels, Length: 5572, dtype: int64"
      ]
     },
     "execution_count": 19,
     "metadata": {},
     "output_type": "execute_result"
    }
   ],
   "source": [
    "Y=df[\"labels\"]\n",
    "Y"
   ]
  },
  {
   "cell_type": "markdown",
   "metadata": {},
   "source": [
    "<p style=\"color:darkblue;\">Şimdi ise ayırdığımız X ve Y değerlerini aşağıda CountVectorizer fonksiyonu ile birlikte kullanacağız. Peki bu fonksiyon nedir, ne işe yarar ?</p>\n",
    "<p style=\"color:darkblue;\">CountVectorizer, verilen bir metni(corpusu) özelliklerin geçme sıklığı matrisine (yani vektöre) çeviren bir fonksiyondur.</p>\n",
    "<p style=\"color:darkblue;\"> cv=CountVectorizer(max_features=2500) ifadeside yer alan max_features parametresini göz önüne alalım. Bu parametre kesinlikle isteğe bağlıdır ve eldeki veri setinin içeriğine göre değerlendirilip yazılmalıdır. Burada yaptığı işlem 5571 metin arasında kelime frekanslarına bakarak en verimli, en çok 2500 kelime frekansını alır. Yani bazen tüm kelime dağarcığını dönüştürmek etkili değildir, çünkü eğer son derece nadir(frekansı az) bulunan veriler geçilirse(dönüştürülürse) gelecekte girdilere istenmeyen boyutlar katacaktır. Bu durumda uygun tekniklerden biri, corpustaki kelime frekanslarını yazdırmak ve daha sonra bunlar için belirli bir eşik belirlemek olabilir. 50'lik bir eşik belirlediğinizi ve veri topluluğunuzun 100 kelimeden oluştuğunu düşünün. Sözcük frekanslarına baktıktan sonra 20 sözcük, 50'den az kez geçiyorsa(frekansı). Böylece, max_features=80 olarak belirlemek modeliniz için daha iyi olacaktır.\n",
    "</p>\n",
    "<p style=\"color:darkblue;\">Burada fit_transform().toarray() ifadesine geçmeden önce ayrı ayrı fit() ve transform() işlemlerini açıklayalım. Öncelikle bu iki fonksiyonun da temel işlevleri, eğitim ve test verilerimizi ölçeklendirirken veya standartlaştırırken kullanılmalarıdır. Ve hemen hemen her zaman birlikte kullanılırlar.</p>\n",
    "<p style=\"color:darkblue;\">fit(): Eğitim verilerinden öğrenme modeli parametreleri oluşturmak için kullanılır. Verilerimizde bulunan özelliklerin her birinin ortalamasını ve varyansını hesaplıyor.</p>\n",
    "<p style=\"color:darkblue;\">transform(): fit() yönteminden üretilen verilerin ilgili ortalama ve varyansı kullanarak tüm özellikleri dönüştürür.</p>\n",
    "<p style=\"color:darkblue;\"> fit_transform(): Eğitim verilerini ölçeklendirebilmemiz ve ayrıca bu verilerin ölçeklendirme parametrelerini öğrenebilmemiz için eğitim verilerinde fit_transform () kullanılır. Burada oluşturduğumuz model, eğitim setinin özelliklerinin ortalamasını ve varyansını öğrenecek. Öğrenilen bu parametreler daha sonra test verilerimizi ölçeklendirmek için kullanılır.</p>\n",
    "<p style=\"color:darkblue;\">Burada bilinmesi gereken önemli bir husus vardır. fit_transform() fonksiyonunu eğitim verilerimizde, transform() fonksiyonu ise test verilerimizde kullanılır. Peki neden ? Eğitim verilerini ölçeklendirebilmemiz ve ayrıca bu verilerin ölçeklendirme parametrelerini öğrenebilmemiz için eğitim verilerinde fit_transform () kullanılır. Burada oluşturduğumuz model, eğitim setinin özelliklerinin ortalamasını ve varyansını öğrenecek. Öğrenilen bu parametreler daha sonra test verilerimizi ölçeklendirmek için kullanılır. Peki aslında bu fonksiyon kendi içerisinde neler yapıyor; fit() fonsksiyonu, verilerimizde bulunan özelliklerin her birinin ortalamasını ve varyansını hesaplıyor. transform() fonksiyonu ise, ilgili ortalama ve varyansı kullanarak tüm özellikleri dönüştürüyor.\n",
    "Şimdi, ölçeklendirmenin test verilerimize de uygulanmasını istiyoruz ve aynı zamanda modelimizle önyargılı olmak istemiyoruz. Test verilerimizin tamamen yeni ve modelimiz için sürpriz bir set olmasını istiyoruz. transform() fonksiyonu bu durumda bize yardımcı olur. transform() fonksiyonu kullanarak, test verilerimizi dönüştürmek için eğitim verilerimizden hesaplananla aynı ortalama ve varyansı kullanabiliriz. Bu nedenle, eğitim verilerini kullanarak modelimiz tarafından öğrenilen parametreler, test verilerimizi dönüştürmemize yardımcı olacaktır.</p>\n",
    "<p style=\"color:darkblue;\">\n",
    "Yani biz eğer test verilerimizde de fit() fonksiyonu kullanırsak, her özellik için yeni bir ölçek olan yeni bir ortalama ve varyans hesaplayacağız ve modelimizin test verilerimiz hakkında bilgi edinmesine de izin vereceğiz. Bu nedenle, sürpriz olarak saklamak istediğimiz şey artık modelimiz tarafından bilinmekte olup, modelimizin makine öğrenimini kullanarak bir model oluşturmanın nihai amacı olan test (yani görünmeyen,bilinmeyen) verilerinde nasıl performans gösterdiğine dair iyi bir tahmin alamayacağız.\n",
    "Bu, bir makine öğrenimi modeli oluştururken verilerimizi ölçeklendirmek için kullanılan standart prosedürdür, böylece modelimiz veri kümesinin belirli bir özelliğine yönelik önyargılı olmaz ve aynı zamanda modelimizin test verilerimizin özelliklerini, değerlerini ve eğilimleri gibi parametreleri öğrenmesini engeller.</p>\n",
    "\n"
   ]
  },
  {
   "cell_type": "code",
   "execution_count": 20,
   "metadata": {},
   "outputs": [],
   "source": [
    "from sklearn.feature_extraction.text import CountVectorizer"
   ]
  },
  {
   "cell_type": "code",
   "execution_count": 21,
   "metadata": {},
   "outputs": [
    {
     "data": {
      "text/plain": [
       "array([[0, 0, 0, ..., 0, 0, 0],\n",
       "       [0, 0, 0, ..., 0, 0, 0],\n",
       "       [0, 0, 0, ..., 0, 0, 0],\n",
       "       ...,\n",
       "       [0, 0, 0, ..., 0, 0, 0],\n",
       "       [0, 0, 0, ..., 0, 0, 0],\n",
       "       [0, 0, 0, ..., 0, 0, 0]], dtype=int64)"
      ]
     },
     "execution_count": 21,
     "metadata": {},
     "output_type": "execute_result"
    }
   ],
   "source": [
    "cv=CountVectorizer(max_features=2500)\n",
    "X=cv.fit_transform(message).toarray()\n",
    "X"
   ]
  },
  {
   "cell_type": "code",
   "execution_count": 22,
   "metadata": {},
   "outputs": [
    {
     "data": {
      "text/plain": [
       "array([0, 0, 1, ..., 0, 0, 0], dtype=int64)"
      ]
     },
     "execution_count": 22,
     "metadata": {},
     "output_type": "execute_result"
    }
   ],
   "source": [
    "Y=np.array(Y)\n",
    "Y"
   ]
  },
  {
   "cell_type": "markdown",
   "metadata": {},
   "source": [
    "<h4 style=\"color:black;\" >Train and Test split</h4>\n",
    "<p style=\"color:darkblue;\">Bu aşamada artık verilerimizi eğitim ve test olarak ayırıp daha sonra farklı makine öğrenme modelleri ile makine öğrenmesi geliştirerek hangisinin daha başarılı sonuçlar vereceğini gözlemleyeceğiz</p>\n",
    "<p style=\"color:darkblue;\">Bu işlem için sklearnde train_test_split() fonksiyonu bulunmaktadır. Bu fonksiyon içerisine yukarıda vektörleştirdiğimiz X ve Y ve değerlerini, test_size denilen verinin kaçta kaçını test için kullanacağımızı belirttiğimiz parametreyi ve random_state denilen bir parametre alır.</p>\n",
    "<p style=\"color:darkblue;\">random_state: Oluşturduğumuz bölmelerin yeniden üretilebilir olmasını sağlar. Scikit-learn, bölünmeleri oluşturmak için rastgele permütasyonlar kullanır. random_state, rastgele sayı oluşturucu için bir çekirdek olarak kullanılır. Bu, rastgele sayıların aynı sırada üretilmesini sağlar.Eğer kodda random_state belirtmezsek, kodumuzu her çalıştırdığımızda yeni bir rastgele değer üretilir ve eğitim ve test veri kümeleri her seferinde farklı değerlere sahip olur.\n",
    "Bununla birlikte, random_state = 0, 1, 42 veya başka bir tam sayı gibi sabit bir değer atanırsa, kodumuzu kaç kez çalıştırırsak çalıştıralım, sonuç aynı kalır ve doalyısı ile eğitim ve test veri kümelerinde aynı değerler olacaktır.</p>"
   ]
  },
  {
   "cell_type": "code",
   "execution_count": 23,
   "metadata": {},
   "outputs": [],
   "source": [
    "from sklearn.model_selection import train_test_split\n",
    "X_train, X_test, y_train, y_test = train_test_split(X, Y, test_size = 0.20, random_state = 0)"
   ]
  },
  {
   "cell_type": "code",
   "execution_count": 24,
   "metadata": {},
   "outputs": [
    {
     "name": "stdout",
     "output_type": "stream",
     "text": [
      "X_train shape: (4457, 2500)\n",
      " X_test shape: (1115, 2500)\n",
      "Y_train shape: (4457,)\n",
      "Y_test shape: (1115,)\n"
     ]
    }
   ],
   "source": [
    "print(\"X_train shape: {}\\n X_test shape: {}\\nY_train shape: {}\\nY_test shape: {}\"\n",
    "      .format(X_train.shape,X_test.shape,y_train.shape,y_test.shape))"
   ]
  },
  {
   "cell_type": "code",
   "execution_count": 25,
   "metadata": {},
   "outputs": [],
   "source": [
    "acc=[]"
   ]
  },
  {
   "cell_type": "code",
   "execution_count": 26,
   "metadata": {},
   "outputs": [
    {
     "data": {
      "image/png": "[encoded data removed]",
      "text/plain": [
       "<IPython.core.display.Image object>"
      ]
     },
     "execution_count": 26,
     "metadata": {
      "image/png": {
       "height": 500,
       "width": 700
      }
     },
     "output_type": "execute_result"
    }
   ],
   "source": [
    "Image(filename = \"Adsız.png\", width = 700, height = 500)"
   ]
  },
  {
   "cell_type": "markdown",
   "metadata": {},
   "source": [
    "<h3 style=\"color:red;\" >4- Makine Öğrenmesi Algoritmaları ve Doğru Algoritma Seçimi</h3>\n"
   ]
  },
  {
   "cell_type": "markdown",
   "metadata": {},
   "source": [
    "<p style=\"color:darkblue;\">Öncelikle yukarıdaki resmi de dikkate aldığımızda burada uygulayacağımız makine öğrenmesi <b>\"Supervised Learning (Denetimli Öğrenme)\"</b>'dir.</p>\n",
    "<p style=\"color:darkblue;\">Denetimli Öğrenme şöyle açıklanabilir; Girdi değişkenlerini (X), çıktı değişkenlerine (Y) olmak üzere bu iki değeri eşleme işlevini öğrenmek için etiketli eğitim verileri kullanır. Denetimli öğrenme problemleri çıkışa (outputa) bağlı olarak regresyon ve sınıflandırma problemleri olarak gruplandırılabilir.</p>\n",
    "<ul>\n",
    "      <li><p style=\"color:red\">Sınıflandırma:</p> Bu çalışma için sınıflandırmayı anlamlandırmak gerekirse; bir sınıflandırma probleminde, çıktı değişkeninin “spam” veya “spam değil” gibi bir kategori olması durumudur. Birçok mail örneği sınıflarıyla (spam veya değil) birlikte eğitilmiştir ve modelimiz yeni maillerin nasıl sınıflandırılacağını öğrenir.\n",
    "</li>\n",
    "      <li><p style=\"color:red\">Regresyon:</p> Regresyon problemi ise, çıktı değişkeninin “tl” veya “ağırlık” gibi gerçek bir değer olduğu durumudur. Yani bir değer (genellikle sürekli olan değerler) arıyorsak, buna regresyon denir. Mesela predictors olarak adlandırılan bir dizi özellik (kilometre, yaş, marka vb.) verildiğinde, bir otomobilin fiyatı gibi bir sayısal değer tahmin etmektir. İşte bu tür bir göreve regresyon denir. Bir sistemi eğitmek için, hem özellikler dizisi(predictors) hem de etiketler (label) dahil olmak üzere birçok araba örneği vermemiz gerekmektedir.\n",
    "</li>\n",
    "</ul>\n",
    "<p style=\"color:darkblue;\">Bazı regresyon algoritmalarının sınıflandırma için de kullanılabileceğini ve sınıflandırma algoritmalarının da regresyon için kullanılabileceğini unutmamalıyız. Örneğin, Lojistik Regresyon, belirli bir sınıfa ait olma olasılığına karşılık gelen bir değer (Buradaki örneğimizdeki gibi ham-spam sınıflandırması) olabileceğinden, sınıflandırma için yaygın olarak kullanılır.</p>\n",
    "\n",
    "<p style=\"color:darkblue;\">En önemli denetimli öğrenme algoritmalarından bazıları:</p>\n",
    "<ul>\n",
    "      <li><p style=\"color:red\"><b>k-Nearest Neighbors(En Yakın Komşuluk)</b></p>K-en yakın komşuluk (KNN) algoritması, uygulaması kolay gözetimli öğrenme algoritmalarındandır. Hem sınıflandırma hem de regresyon problemlerinin çözümünde kullanılır. Algoritma, sınıfları belli olan bir örnek kümesindeki verilerden yararlanılarak kullanılmaktadır. Örnek veri setine katılacak olan yeni verinin, mevcut verilere göre uzaklığı hesaplanıp, k sayıda yakın komşuluğuna bakılır. KNN; eski, basit ve gürültülü eğitim verilerine karşı dirençli olması sebebiyle en popüler makine öğrenme algoritmalarından biridir. Fakat bunun yanında dezavantajı da mevcuttur. Örneğin, uzaklık hesabı yaparken bütün durumları sakladığından, büyük veriler için kullanıldığında çok sayıda bellek alanına gereksinim duymaktadır.</li>\n",
    "      <li><p style=\"color:red\"><b>Logistic Regression</b></p>Lojistik regresyon, ikili sonuç veren binary değişkenlerin modellenmesinde kullanılmaktadır. İkili durum söz konusu olan modellerde sonuç genellikle 0 veya 1 olarak tanımlanmaktadır. Örnek vermek gerekirse tıpkı bizim veri setimizde ham grubunu 0, spam grubunu 1 olarak tanımlamamız. Bu durumda p, örneklem kümesindeki 1'lerin, q ise sıfırların oranını vermektedir. Kısacası tıpkı diğer lojistik regresyon yöntemiyle kullanılan örneklemlerin hangi sınıfa ait olduklarını belirleyebiliriz.\n",
    "</li>\n",
    "      <li><p style=\"color:red\"><b>Linear Regression</b></p>Linear regresyon, farklı değişkenler arasındaki ilişkiyi modellemek için kullanılan en temel tekniktir. Çoğunlukla karmaşık analizlerin ilk basamağını oluşturmaktadır. Linear yani doğrusal regresyon bize normal dağılmış, hakkında veri toplanmış iki değişken arasında doğrusal ilişki olup olmadığını test etme olanağı verir. Değişkenlerden biri tahmin, biri sonuç değişkenidir.</li>\n",
    "      <li><p style=\"color:red\"><b>Support Vector Machines (SVMs) (Destek Vektör Makineleri)</b></p> Destek Vektör Makineleri istatiksel öğrenme teorisine dayalı bir gözetimli öğrenme algoritmasıdır. Temel olarak iki sınıfa ait verileri birbirinden en uygun şekilde ayırmak için kullanılır. Bunun için karar sınırları yada diğer bir ifadeyle hiper düzlemler belirlenir. DVM’ler günümüzde yüz tanıma sistemlerinden, ses analizine kadar birçok sınıflandırma probleminde kullanılmaktadırlar.</li>\n",
    "      <li><p style=\"color:red\"><b>Decision Trees and Random Forests</b></p> Aslında burada 'Random Forests' grubu da bir karar ağacı olduğu için hem biraz karar ağaçlarının yapısından daha sonra random forests algoritmasından söz edeceğiz. Ağaç tabanlı öğrenme algoritmaları, en çok kullanılan gözetimli öğrenme algorimalarındandır. Genel itibariyle ele alınan bütün problemlerin (sınıflandırma ve regression) çözümüne uyarlanabilirler. Fakat bu model kayıp değerleri desteklememektedir, bu değerleri önce düzenlememiz, duruma göre ortalama ya da en çok tekrar eden değer gibi değer atamaları yapmamız gerekmektedir. Karar ağacı algoritması, veri madenciliği sınıflandırma algoritmalarından biridir. Önceden tanımlanmış bir hedef değişkene sahiplerdir. Yapıları itibariyle en tepeden en aşağı inen bir strateji sunmaktadırlar. Bir karar ağacı, çok sayıda kayıt içeren bir veri kümesini, bir dizi karar kuralları uygulayarak daha küçük kümelere bölmek için kullanılan bir yapıdır. Yani basit karar verme adımları uygulanarak, büyük miktarlardaki kayıtları, çok küçük kayıt gruplarına bölerek kullanılan bir yapıdır. Buradaki önemli husus, karar ağaçlarının en büyük problemlemi aşırı öğrenme, veriyi ezberlemedir(overfitting). İşte tam bu noktada devereye 'Random Forests' girmektedir. Random forests modeli bu problemi çözmek için hem veri setinden hem de öznitelik setinden rastgele olarak 10'larca 100'lerce farklı alt setler seçiyor ve bunları eğitiyor. Bu yöntemle 100'lerce karar ağacı oluşturuluyor ve her bir karar ağacı bireysel olarak tahminde bulunuyor. Günün sonunda problemimiz regresyonsa karar ağaçlarının tahminlerinin ortalamasını, problemimiz sınıflandırmaysa tahminler arasında en çok oy alan etiketi seçiyoruz. Şimdi bütün bunları basit bir örnekle açıklayacak olursak: Örneğin bu akşam güzel bir film izlemek istiyorsunuz ve kafanız karışık. Bir arkadaşınızı ararsanız ve o size tercih ettiğiniz film türü, süre, yıl, oyuncu-yönetmen, hollywood-alternatif vs. soru setinden çeşitli sorularla daha önce izlediğiniz filmlere (training set) göre bir tahminde bulunursa bu karar ağacı olur. Eğer 20 arkadaşınız bu soru setinden farklı sorular seçip verdiğiniz cevaplara göre tavsiyede bulunursa ve siz en çok tavsiye edilen filmi seçerseniz bu random forests modelimiz olur. Random forests modelinde farklı veri setleri üzerinde eğitim gerçekleştiği için varyans, diğer bir deyişle karar ağaçlarının en büyük problemlerinden olan overfitting azalır. Random forest modelinin diğer bir özelliği bize özniteliklerin ne kadar önemli olduğunu vermesi. (Bir özniteliğin önemli olması demek o özniteliğin bağımlı değişkendeki varyansın açıklanmasına ne kadar katkı yaptığıyla alakalı bir durumdur.) Random forest algoritmasına x sayıda öznitelik verip en faydalı y tanesini seçmesini isteyebiliriz ve istersek bu bilgiyi istediğimiz başka bir modelde kullanabiliriz.</li>\n",
    "      <li><p style=\"color:red\"><b>Naive Bayes</b></p>Bu algoritma, koşullu olasılıklara dayanarak hedef sınıftaki belirli bir değerin gerçekleşmesi ihtimalini inceler ve buna dayalı olarak hedef sınıfın değerini tahmin eder. Bu hesaplama Bayes Formülü aracılığı ile gerçekleştirilir. Naive Bayes algoritması sonuç olarak hedef sınıfın hangi değerinin gerçekleşme olasılığının ne olduğunu bildirir. Bir defa sistem eğitildikten sonra oldukça performanslı çalışsa da sistemin ilk kez eğitilmesi veya eğitilmiş bir sistemin güncellenmesi için yeniden eğitilmesi ise zaman ve kaynak kullanımı anlamında maliyetlidir. Çünkü tüm veri kümesini her sınıflandırma işlemi için tekrar tekrar taraması gerekir. Naive Bayes algoritması Metin Madenciliğine (Text Classification ve Multinomial Naive Bayes) ve Çoklu Sınıf Tahminlerine (Multi Class Prediction) elverişlidir.\n",
    "\n",
    "</li>\n",
    "</ul>"
   ]
  },
  {
   "cell_type": "markdown",
   "metadata": {},
   "source": [
    "<p style=\"color:darkblue\">Şimdi, yukarıda anlattığımız algoritmaları uygulayabilmek için sklearn kütüphanemizin içerisinden kullanacağımız modül ve fonksiyonları dahil edelim.</p>"
   ]
  },
  {
   "cell_type": "code",
   "execution_count": 27,
   "metadata": {},
   "outputs": [],
   "source": [
    "from sklearn import metrics\n",
    "from sklearn.linear_model import LogisticRegression\n",
    "from sklearn.metrics import classification_report, accuracy_score, confusion_matrix\n",
    "from sklearn.neighbors import KNeighborsClassifier\n",
    "from sklearn.tree import DecisionTreeClassifier\n",
    "from sklearn.ensemble import RandomForestClassifier\n",
    "from sklearn.naive_bayes import MultinomialNB\n",
    "from sklearn import svm"
   ]
  },
  {
   "cell_type": "markdown",
   "metadata": {},
   "source": [
    "<h4 style=\"color:black;\" >Ortak parametreler ve fonksiyonlar</h4>\n",
    "<p style=\"color:darkblue\">Öncelikle her algoritmada kullanılan bir ortak fonksiyona değinerek başlamak isterim. <b>\".predict\"</b> fonksiyonu bizim modelimizi eğitmemizin için daha önce yukarıda vektörize ettiğimiz X değişkenininin (yani özelliklerin geçme sıklığı matrisine çevirdiğimiz) bizim belirttiğimiz(%20) aralıkta test olarak ayırdığımız veri grubunu içerisine parametre olarak yolluyoruz. Bu sayede X_test olarak belirlediğimiz veri grubundaki her bir örnek için sınıf değerleri tahmini yapılır(bu tahminler eğitim olaral yolladığımız veriler sayesinde yapılmaktadır) ve bu fonksiyon bize sınıf değerleri döndürür.(yani bu işlem sonucundan 0 ham ya da 1 spam olarak değer döndürür).</p> <p style=\"color:darkblue\">Daha sonra yine bütün algoritmalar bu işlemden sonra y_test olarak belirlediğimiz veri grubu ile \".predict\" fonksiyonu sonrası bize sınıf olarak dönen değerleri eşleyerek doğruluk oranını karşımıza sunar. Tabi bu eşleştirme kısmı \".predict\" fonksiyonunun görevi değildir. Bu zaten yukarıda da anlattığım gibi her sınıflandırma algoritmasının altında yatan bir işlevdir. Burada önemli olan nokta verilerimizi test ve eğitim olarak bölerken ya da her algoritmanın kendine has parametrelerini verirken yapacağımız değişiklikler sonucunda algoritma ve sonuç üzerinde olan etkisinin gözlemidir. Veriyi 0.20 bölmek ile 0.40 bölmek bize çok farklı sonuçlar verecektir. Genellikle araştırmalarda 0.20-0.30 arasında bölme yapılır. Bu aralıktaki her değer için sonuç üzerinde etki incelenmeli ve en verimlisi kullanılmalıdır.</p>\n",
    "</p> <p style=\"color:darkblue\">Mesela aşağıda KNN algoritmasına has olan, içerisine aldığı <b>\"n_neighbors\"</b>  parametresi bulunmaktadır. Bu parametre; yeni gelen verinin eski verilere ya da veriye olan uzaklığı olarak anlamlandırılır. Ve bu değer bize yeni gelen verinin eski verilerden kaç tanesine komşu, kaç tanesine bakılarak bir etkikete sahip olacağı anlamına gelir. Bu değere 1 vermek ile 5 vermek çok farklı sonuçlar görmemize yol açacaktır. Burada da yine değer denemesi yapılarak en başarılı sonucu veren değer tercih edilmeli ve model bunun üzerine kurulmalıdır. </p>\n",
    "</p> <p style=\"color:darkblue\">Bir diğer ortak fonksiyonumuz <b>\"accuracy_score()\"</b> fonksiyonudur. Bu fonksiyon ise içerisine aldığı tahmin değeri ve sınıf değerlerini birbiri ile eşlemesi sonucu çıkan doğruluk değerini bize sunar.</p>"
   ]
  },
  {
   "cell_type": "code",
   "execution_count": 28,
   "metadata": {},
   "outputs": [
    {
     "data": {
      "image/svg+xml": [
       "<svg xmlns=\"http://www.w3.org/2000/svg\" xmlns:xlink=\"http://www.w3.org/1999/xlink\" version=\"1.1\" id=\"Layer_1\" x=\"0px\" y=\"0px\" width=\"360px\" height=\"97px\" viewBox=\"0 0 360 97\" enable-background=\"new 0 0 360 97\" xml:space=\"preserve\">  <image id=\"image0\" width=\"360\" height=\"97\" x=\"0\" y=\"0\" xlink:href=\"data:image/png;base64,iVBORw0KGgoAAAANSUhEUgAAAWgAAABhCAMAAADMQ8ubAAAABGdBTUEAALGPC/xhBQAAACBjSFJN AAB6JgAAgIQAAPoAAACA6AAAdTAAAOpgAAA6mAAAF3CculE8AAAB8lBMVEX4+Pj446RQcCAAcCBQ teTitrsOhLWHyvjEo7UOhLul4Pj4+MiAcCAAhaTh+Pj4+OSghSAAcILB+Pj4+NeHhLUOks3i+Pj4 zYLdnQnKtuL4+OLVfwnQzvj45aPKXYTd+PgAnsj4+MPQXQnGXQnGncPKXQnmtlbGXVbV5fjh46RQ cF+Anl8AnqT44M1ZhLUOhMTE+Pj4+OelkrVZtuel4OdZts1ZhLuHo7sOo834ysQOo9dQnoKgtV/B niCgniCAzfgAcF+g4/j4+MqCJSkhJSkhhsr4+OWlYSkhJYbI+PghYajk+PiCx/jkqGXIhikhJWWl 4fj4x4ZfqOXk4ahfJSnGf6Pm+PgAhV9QhaTh+OSHtudZkrvi+OfB+MjhtV9QnsjIhob44aiCqOVf JWVfJYb4zoTGXYTB46Ti4M2CJYbiysSHyteCJWWl4eWlYWUhYWVfhsqlys2lhinIqGWCqKjks3Ug gFAggJbIoFAgj7KCyfikj1AggHWk3/j4yZYgoM1fs7KCgFDI4ajI+Mpfs+L437JfgHX4+M1fgJaC gHXJl2ZmZmZmZn6x4fik3+JfgFBfYWVfYaiCx8r4yowzMzMzM2ys4/jmrWyMyvj446xsM2wzM4zM +PhsrebMjjMzjsz4+MyMMzP4+OasazNsMzP///+Y1EniAAAAAWJLR0SlLrlKLwAAAAlwSFlzAAAO wwAADsMBx2+oZAAAAAd0SU1FB+UEAhQoHIent5MAAAnBSURBVHja7ZyJfxvFFcfXViwr2MZ24hBq LoM52oJzuUCdYpw4qxy2pHhVtxyBgLmPtByt1dQmpmlJA7ScMRhok7RA/8++9+bN7M5odleSJecj a36fOKvdnRntfvft29l5mud5Tk5OTk5trq7uTGZHjWV7sr28zPKnpii386aEvX39AzffMDrN0+DQ 8K6aC/covD2bAL17ZM8t2oZcYmN9/bUc4d6araVVuvUntBi97XZa3nHnXdruru6x2ttqEehm6IaD vvue8Xtxecd940T8/vEHfhrdL0APDg38rBsPFR3JwM1dP38w89BQ5NAn9mWz+w8g3oOHspOeBA0r WYSGrgS29uz8xSFY3z3y8Eg29AYTjzya/SXW4tK5bJaKT2V7c6JR9kM58QHXD6tvHhzKZMCiB4d+ 1T38GBza9MDj5Or6+ml7X//Y3kxmBtcymSNHVbXZY76fh+XxE75/8pRYn5s/fqLgecU8bC2U/NML 8NmnhRf4vl/2inPznviPBbv9QrjkRTD360VsHNvOR1DeP/6b3+LyVkEcyN+u9okDHN41OPTEk0+B E0Hs8Af/9mZmppVv3D0izrwH2Ux6EvTBQ/sP4K6Jp4Wf7dl55ibYsXsE/xSriX2HkemeZ7i0tOip 7JneqchVY089Zd4r5Nzgv2eB6ZGj05kx7+yRo+i4xd8Tz5ETNyz6+VPAtgAs8sy97BF2CRqwlvLe 0gsCbEC0vaUXF2BXWTWy9NIpwfskLQNYYMkALh0WLeW10p738vgrd0WIj94mbFu3aLAGOP6zaBTT w692z+wd3hUFLSD0ZM9kFXJECJhyYJS8oQewwTakGXEPE/t6p/YfyO15TZZWoA/zFeTGRMtTWcOx MOixvv4ZBA0rABXswBPAYZ23mTdzqUxsCJUw0xB0Hg1znmkqXFBDwqVdiwVxlQqicpkbPY3XozD7 +inViAQtbJi9BoAWJq6BFg+caTtoOHt2HdIlEJspcgL7D6BPyBLoXmn/FtBvcOkQ9CSXCK+a9CCh 67CB7urecVaB5oM0QKMvkM4A8QjDjrgOXvfRszBJwlYs661AA2i9sjKB5iu0iN8RAZ3kOmyg4XMV aDr/SSDy5khowIoNuQ0baDRa3aLFfjtoRVfeQPEWPUOgp2NBky2GTBCuDXQJMaJFM+jZc7/7/YJx W8zNz55bUBaN/4W3QrRgrQ9DAVr46B1dFtBTBLqX72zlowk0Ol8baHrYSdDPcGlZzQB98FBIN5cI GjcI/zwWdrL13hMaYQAWzb5ZOgHC5EdA40fwLuyE4SK89bbOme6JkiCLpchPSz+U10rW1L1TvWl4 hINpmKCx04HGiURyQFp0HHoBJ22H3Tvf2Zdm0bdwadHcpAJNjQFZckCT1OmIPA/F43rgKQWaHt6i ezQWfZs5q/U6SnBTv1sWvQ2kiPc5mu+iP/eHEDRu/SMaZpEcjbogErIvKmNr3OvAp6a8TcjxlL1t quk63q/ql+EOOlktBa331jpbLQQNroC8LnoMn99knJycnJycnJy2rdSAgEX4hlWoo62aVNJHeztG iaD5hWq5UvmT5dXqfKXy53lLteXKSvXG0dVK5b0L9LHYVqBTxjpqVg2g14Dy+Wqka+8DvferKo2u /uXiir29NXG52gp08ugdjcSq4Vj4+PpfF2nw5aW/HcOljNbg2IyfBnp09QPPu/T3C7YSy9X8l1cu x4G+9GH7gU4Zj8YRcRmG8BDoSYo3LC2eXkD+HK0Rf2mgL390wbt8sWKFt2zzHbGgl4X9txnoxFAW IiqFIyk0xg3nxwPnMloTkHGHoD/+B+ifn2itIOhPVysr5z+wHMKlz2xI7aDhWrWlj04OZcnYF0uA nptnpyujNSZoUwwarXl01QLv8kUb/XiL5h1tBjo5lFXMB5HTURbNoLk3UZtFk49G/1HNrfpRGOFp kbgt2gp0Wihr9tznC9G1BXIbTFhGayi4nvow9JbhlidnvLQYDQ4rzvpmBfr4CXNEkp+obQU6tXtX ip687F1IU5bRmiL8X6qpH00PPQrEKcFW0Iq5eU1uhtYjTYMDalcfnaxSNKjAAd96VRUBKs3ZXlDi NgcxY+zbCnQQNbImgQ58K9CYzbPH4mIZ2wh0IAI25DFA+UZBu7EOJycnJycnJ6ftJNe9q1tJY3Tx Sgll2WNWMRGuDgllbQp0TCgrJmYVE+GSDXltBrq+UFbJF1MSOJQlfyFPr44JP7RMDmUlxKysgZdO CGVJi+ZQVjgVoRy9HFVKC2XVC3r7h7JC0BTKkqCXvpjXTrveUFYcaGuEqyNCWQq0HPgXoAMx5BT7 DemhLCvomAhXJ4Sy4kAb45t1hrJio7D2R6HXAaEsOSNPgRazmOTkpjglh7IU6JgIVyeGsmT/QnaM eRZTbT+giQtlrdlDWcudHMpqUC6UlS49lNWgXCgrTWYoq8Fm3FiHk5OTk5OTk1NnKrC/sbREYqCm M9MVcHYiQy2iT6CTRtGbrGbNymrKqVvtq5Wgty7VSdronZ5iTybRw3PHHzyWykV659Pz9ZkBMFVZ pPGTi2gaP3rRF0SNNH5i+gbOURKl5VerWprSppHJWuEoWDPGcmpT4ni0kWJP5dKToAEv7jby9Zlz ufg3qCqNX5lKyjR+WJLAinM20/gxf1Wav1rV0pUyjYxrRaaRbeFjITHBoKel2JO2okCLfGXiFMN8 feZcLh6uZi5UihoVafxwqgA2pnJz6Wn8FOi8mgFGX12w/lw7eRqZrBWZdLOFaZKSQ1laij35tApd B7PQ8/WZATC4/REup/EjcGE6OfoKdAqRq6in8WPQ2jVWtQwlTyOTtSKgG/zJdwNKjoLrKfbkURmg zXx9ZgDMEz6HhzXJooOTIeiCYsRfoqfxiwEd011InEYWbWSLLTrlYWim2Cupu58CTBK0ka+vKgAm 6KpcnvpcW5W+T94fRho/cRspRvzVqpYRF0ucRiZrRaaRbZmPTu7eVaXY41x6sPgy4jrMfH16rCSQ Nzmn8eM+ijLKIufwVC5+UbfWIvc61Hd9yb0OqqUHwFKmkcla4TSyret1tEQNHb585NZ5NxsBsPqm kbV5ysAGA2DSSdRzlcwAWH3TyLbwzbAFajwAFmAXdzNp/OqdRtahYx1OTk5OTk5OTk6b1pX19a++ Dlc31kHf3OiD2ob69ruvvY1//Vutb1y90Ue0TXXtuuf957+hCTvQrdH3P3wDf+shXQe6NQLQ19av blxXG9BHX99Eg052CWu+dlXf5kg3X+ij0X9EteFAN19XoC93BXsd3/8ge3nf/ui6dy0Q9KOpdydA gyvRutVOTk5OTk5OTk5to/85bYn+Dzwps3qz4fPtAAAAJXRFWHRkYXRlOmNyZWF0ZQAyMDIxLTA0 LTAyVDIwOjQwOjI4KzAzOjAwR7R7aAAAACV0RVh0ZGF0ZTptb2RpZnkAMjAyMS0wNC0wMlQyMDo0 MDoyOCswMzowMDbpw9QAAAAASUVORK5CYII=\"/>\n",
       "</svg>"
      ],
      "text/plain": [
       "<IPython.core.display.SVG object>"
      ]
     },
     "execution_count": 28,
     "metadata": {},
     "output_type": "execute_result"
    }
   ],
   "source": [
    "SVG(filename='Adsız4.svg')"
   ]
  },
  {
   "cell_type": "markdown",
   "metadata": {},
   "source": [
    "</p> <p style=\"color:darkblue\">Örnekte de görüldüğü üzere eşlemeyi yapmış ve doğruluk değerini default olarak normalize bir şekilde bize sunmuştur. Eğer normalize değer istemiyorsak normalize=False yazmamız yeterlidir.</p>"
   ]
  },
  {
   "cell_type": "code",
   "execution_count": 29,
   "metadata": {},
   "outputs": [
    {
     "data": {
      "image/svg+xml": [
       "<svg xmlns=\"http://www.w3.org/2000/svg\" xmlns:xlink=\"http://www.w3.org/1999/xlink\" version=\"1.1\" id=\"Layer_1\" x=\"0px\" y=\"0px\" width=\"402px\" height=\"38px\" viewBox=\"0 0 402 38\" enable-background=\"new 0 0 402 38\" xml:space=\"preserve\">  <image id=\"image0\" width=\"402\" height=\"38\" x=\"0\" y=\"0\" xlink:href=\"data:image/png;base64,iVBORw0KGgoAAAANSUhEUgAAAZIAAAAmCAMAAADZcO0fAAAABGdBTUEAALGPC/xhBQAAACBjSFJN AAB6JgAAgIQAAPoAAACA6AAAdTAAAOpgAAA6mAAAF3CculE8AAABL1BMVEX4+Pj////4x4YhYajk +Pj4+OWlYSmCx/j4+MqCJSkhJSkhJWWl4fjIhinhtV8AcCCAzfjkqGVfqOX44ahfJWWCJWX4+OSg hSBQteTdnQnKtuL4+OLVfwnQzvj45aPKXYTd+PgAcILB+PhfJYbI+Pj4+MPQXQnGXQnGncPKXQnm tlbGXVbV5fghhsohJYZfJSmCJYbI4ajI+MqlYWWl4crk4aghhqilx6j446RQcCAAhaTh+Pj4+MiA cCAAcF+g4/gAnsjGf6Pm+PiCqOXIhoagnqT4zYL4zoTGXYRfYajJl2ZmZmZmZn6x4fil4eVfYWUh YWVfhsrBniCCqKiCx8qlhilQtcjMjjMzMzMza6z4yowzjsz4+OasazPmrWz446xsMzOMyvj4+MyM MzNsreaM2IqqAAAAAWJLR0QB/wIt3gAAAAlwSFlzAAAOwwAADsMBx2+oZAAAAAd0SU1FB+UEAhQo HIent5MAAATJSURBVGje7Zhpe9tEEIAV5ZC9jqpILklvShtIORS3TaFHOEKh5WihV6CBQoG2//83 dOfUruRiJ2C8z8POh6wt7+zMzrszs0qSRAlLFubtQJS2RCTBSUQSnEQkwUmYSNLFpf/M1vJKdkTN Xt8MVvFTzuM0cqwoirUxz8uKPwSJZHh83A5nxOnoSCyUtyYjWd+wDIoTzpNjY5H0+uyHIjl5CofT Z87ieO7t87PY/5RBqsY9DhjJ38n6xjsX/CfjkSTDi5s4CpJ339u6BOO597eQzQdbH37kzi8NJWlq jKnou8kwSuBWXpXwFVLZ1LhNY7Y3kbvCd5RhGmjSYGOS4+IlKGnsS/hbKobhyCrb32W2mFYtP1Yt 073LV0Zga3jxat/gwqQFLpgOkuWda338GYzW4NDHIzumn6wMro/Y8bpBYmfpWrCP1BgnaxTJjZtF cWtXkXz6WVF8/gWNezghrzwkAOHL2zCeJDaW0VmH4FcUnpRtlRQFRWI9hJ+/3sQ4LK/UZAO208RL zlSvX9HxrHCm5VfBVJiJCMg1qF5evhApnc2mVcuXtuk+wKxs9Aar4CFrkQtdJCuDVfgJZoKzqQ25 dSc1Wb591drkbTY7kgOODQEcd0wLkvU7u8ldLGCIZH0D8Vgit3Zv3DzRbNDtJd9sfXveYXP6DOWL m1gSIjl/igQP4KawFofgUd4ElVFIBHEWLooHcSnPaI8SI6upW3WR0Gw1nY2tH23TmE+1RZLhwqyV UpJ2kWQ4Gx0FWwP0CnystH1UY5AMv1siLLDC9/es3P+BeskaJ8peg4Se3bUD4+FVPCSUF1yzLBJK G3LSaClKmv7bFC6OmsHSJKfWOta77ASVMzyvmxAjkkxNQMY7vEu3qQgS7zSoVjeqrmlCsrjEuxat SUjqRPHTJ0LC2+wgWd6Brzn82lRDLVxw1SoUCdYxW7jwKRU0Xm3KwsVpIO6LKy0kcga1EZd1Wvu7 hYpXMhLAk243SDInIGjkxx031G9A8obm7JvWLBEkzSKTsqTsIJFtdpDQCZLzqVlCSKBoOVlCkPYw S+TE+lkyob3nUPIhmlyScq09UHcVCVRRU2mFsi4/aJ1f4IBbojrmFnNZW/dUPnzkqlJqajTZtGoN R15H8U1D7MCsVBjWgiVzPNC52+QFCWhg52kh4W22kcg0P2cbJGvJYydLEqpj0Eu8MzftJRiuHk/A bskpm1Nu2mHfKVz26+JPFV0+cNO5G6ZUSgys1lxc9JjC2li9pRWN/PNb8o1Lbe3zjQu18Mi4p8g1 LTerpg+Tlh0q6Csc4hYSdLRK2khkmynXzNJwVed6lhr3Eqjt3faUnzf2LBbsLXDRwnoFBYxeWzo3 rplIXh1BSS4RXnOfwpZ/7/JMT3yBaOOfg7TfS2Yj6fahgqrOcYk6DM/U+ER80xOQ2HY/dyLdt/cZ SEplihKaX66m1IRXBlIoSfkQ/0QaZ3qa1+w5S9j/4/p/S0QSnEQkwUlEEpxEJMFJRBKcRCTBiSJ5 enDwy+1/slKUf0kEya/Pkt9+fzZvb6IkfuF6HtMkBIlIghMHyR9//jVvb6IkLpIXL1/N25koIIrk xcvY3MMQQRKJBCOC5PkBSGwmAUh8ew9OIpLgJCIJTiKS4GThNbVTgofgUeyKAAAAJXRFWHRkYXRl OmNyZWF0ZQAyMDIxLTA0LTAyVDIwOjQwOjI4KzAzOjAwR7R7aAAAACV0RVh0ZGF0ZTptb2RpZnkA MjAyMS0wNC0wMlQyMDo0MDoyOCswMzowMDbpw9QAAAAASUVORK5CYII=\"/>\n",
       "</svg>"
      ],
      "text/plain": [
       "<IPython.core.display.SVG object>"
      ]
     },
     "execution_count": 29,
     "metadata": {},
     "output_type": "execute_result"
    }
   ],
   "source": [
    "SVG(filename='Adsız3.svg')"
   ]
  },
  {
   "cell_type": "markdown",
   "metadata": {},
   "source": [
    "</p> <p style=\"color:darkblue\">Gelelim bir diğer ortak fonksiyonumuz olan <b>\"confusion_matrix()\"</b> fonksiyonuna. Bu fonksiyon bize içerisine aldığı tahmin ve sınıf etiketleri üzerinde yaptığı eşlemeleri komşuluk matrisi şeklinde gösterir. Yani bir tarafta doğru bildiği değerleri öteki tarafta doğru bilemediği değerleri olacak şekilde bize adet bazında gösterim yapar.</p>\n",
    "</p> <p style=\"color:darkblue\">Sırada <b>\"classification_report()\"</b> fonksiyonu var. Bu fonksiyon bize modelin başarısı hakkındaki tüm detayları ve incelikleri vermektedir. kullanımı çok basit olduğu gibi bir o kadar da kullanışlı ve göze hitap eden bir fonksiyondur. İçerisinde \"precision\", \"recall\", \"f1-score\" ve \"support\" başlık değerleri vardır. </p>\n",
    "<ul><li><p style=\"color:red\"> <b>Precision</b></p>Precision bize her sınıf için yapılan tahminlerin normalize değerlerini sunar. Yani veri setimizin ilk algoritması ile bunu anlatacak olursam 955 tane ham mesaj arasından modelimiz sadece 3 tanesini spam olarak tahmin etmiş ve %98 olarak spam mesajları tahmin etmede başarılı. Tabi burada değerlerimizi normalize olduğundan 1 üzerinden 0.98 başarımız bulunmaktadır. Buradaki değerler etiketlerin sayısı ile değişim göstermektedir. Yani biz burada 955 veri içerisinden 3 tanesi yanlış olduğu için 0.98 değerini aldık eğer bu veri daha az veya daha çok olsaydı bu hassasiyet de buna göre değişecekti.</li>\n",
    "    <li><p style=\"color:red\"> <b>Recall</b></p> Recall 'ın tam anlamı scikit-learn.org' da 'sezgisel olarak sınıflandırıcının tüm pozitif örnekleri bulma yeteneğidir.' olarak tanımlanmıştır. Fakat üzerinde yaptığım işlemler sonucu bu değerin komşuluk matrisinde yer alan ham ve spam değerlerin doğru ve yanlış adet sayıları arasındaki orantı olduğunu gördüm. Mesela yine aşağıdaki örnekten devam edelim. Görüldüğü gibi spam mesajların arasıdan 32 değer yanlış 128 değer doğru olarak hesaplanmış. Elimizde 160 tane değer var ve bu 160 değer içerisinden 128 değer doğru tahmin edilmiş. Buradan 128/160=0.80' gelmekte. Bu değer bizim doğru tahmin hassasiyetimiz. Diğerleri için yukarıda uyguladığım işlemleri uyguladığınızda sizde doğru olduğunu göreceksiniz.</li>\n",
    "\n",
    " <li><p style=\"color:red\"> <b>F1-score</b></p>F1-score basitçe bize precision ve recall değerlerinin harmonik ortalamasını veren bir değerdir. Her sınıfa karşılık gelen score değerleri, diğer tüm sınıflara kıyasla o belirli sınıftaki veri noktalarını sınıflandırmada sınıflandırıcının doğruluğunu bize söyler.</li>\n",
    " <li><p style=\"color:red\"> <b>Support</b></p>Support değeri o sınıfta yer alan veri adetini bize gösterir. Örneğin aşağıda 0 olarak tanımladığımız ham mesaj grubunda 955 veri bulunmaktadır.</li>\n",
    "</ul>\n",
    "\n",
    "Daha fazla bilgi edinmek için <a href=\"https://scikit-learn.org/stable/modules/generated/sklearn.metrics.precision_recall_fscore_support.html\">bakabilirsiniz</a>."
   ]
  },
  {
   "cell_type": "code",
   "execution_count": 30,
   "metadata": {},
   "outputs": [
    {
     "name": "stdout",
     "output_type": "stream",
     "text": [
      "KNN Accuracy: 0.968609865470852\n",
      "\n",
      "----------------------------------------------------------------------------------------------------\n",
      "Confusion Matrix \n",
      " [[955   0]\n",
      " [ 35 125]]\n",
      "              precision    recall  f1-score   support\n",
      "\n",
      "           0       0.96      1.00      0.98       955\n",
      "           1       1.00      0.78      0.88       160\n",
      "\n",
      "    accuracy                           0.97      1115\n",
      "   macro avg       0.98      0.89      0.93      1115\n",
      "weighted avg       0.97      0.97      0.97      1115\n",
      "\n"
     ]
    }
   ],
   "source": [
    "knn = KNeighborsClassifier(n_neighbors = 1)\n",
    "knn.fit(X_train, y_train)\n",
    "pred = knn.predict(X_test)\n",
    "print('KNN Accuracy: {}\\n'.format(accuracy_score(y_test, pred)))\n",
    "print('-'*100)\n",
    "print(\"Confusion Matrix \\n\",confusion_matrix(y_test, pred))\n",
    "print(classification_report(y_test, pred))\n",
    "acc.append(metrics.accuracy_score(y_test,pred))"
   ]
  },
  {
   "cell_type": "markdown",
   "metadata": {},
   "source": [
    "<p style=\"color:darkblue\">Logistic Regression ' un içerisine aldığı önemli bir parametre olan <b>solver</b> bizim aslında doğrudan bizim veri setimizle alakalıdır. Bu algoritmanın veri setiyle olan optimizasyonunu belirler. Ve aslında altında bir matematik; türevler, fonksiyonlar, paraboller ile hesaplanan bir yaklaşım yatmadır. Kısacası elimizdeki veri seti fazla büyük değilse 'liblinear' iyi bir seçimdir. Çoklu sınıflandırma problemlerinde 'newton-cg', 'sag', 'saga' and 'lbfgs' 'liblibear' a göre daha başarılıdır.</p>\n",
    "<p style=\"color:darkblue\">Detaylı bilgi ve altında yatan matematik yaklaşımı için <a href=\"https://stackoverflow.com/questions/38640109/logistic-regression-python-solvers-defintions\">bakabilirsiniz.</a> Ayrıca  kendi sitesindeki tanıma da <a href=\"https://scikit-learn.org/stable/modules/generated/sklearn.linear_model.LogisticRegression.html\">buradan</a> göz atabilirisiniz.</p>"
   ]
  },
  {
   "cell_type": "code",
   "execution_count": 31,
   "metadata": {},
   "outputs": [
    {
     "name": "stdout",
     "output_type": "stream",
     "text": [
      "LogisticRegression's Accuracy: 0.9829596412556054\n",
      "\n",
      "----------------------------------------------------------------------------------------------------\n",
      "Confusion Matrix \n",
      " [[954   1]\n",
      " [ 18 142]]\n",
      "              precision    recall  f1-score   support\n",
      "\n",
      "           0       0.98      1.00      0.99       955\n",
      "           1       0.99      0.89      0.94       160\n",
      "\n",
      "    accuracy                           0.98      1115\n",
      "   macro avg       0.99      0.94      0.96      1115\n",
      "weighted avg       0.98      0.98      0.98      1115\n",
      "\n"
     ]
    }
   ],
   "source": [
    "LR=LogisticRegression(solver='liblinear')\n",
    "LR.fit(X_train,y_train)\n",
    "yhat = LR.predict(X_test)\n",
    "print(\"LogisticRegression's Accuracy: {}\\n\".format(metrics.accuracy_score(y_test, yhat)))\n",
    "print('-'*100)\n",
    "print(\"Confusion Matrix \\n\", confusion_matrix(y_test, yhat))\n",
    "print(classification_report(y_test, yhat))\n",
    "acc.append(metrics.accuracy_score(y_test,yhat))"
   ]
  },
  {
   "cell_type": "markdown",
   "metadata": {},
   "source": [
    "<p style=\"color:darkblue\">Svm's algoritmasının içerisine aldığı çekirdek fonksiyonu olarak tanımlayabileceğimiz <b>kernel</b> parametresi bulunmaktadır. İçerisine 'linear', 'poly', 'rbf', 'sigmoid', 'precomputed' olmak üzere 5 farklı yaklaşım alabilmektedir. Bu yaklaşımların hepsinin kendi içerisinde matematiksel hesapları ve incelikleri bulunmaktadır. Ama kullandığımız 'rbf' yi anlatmak gerekirse; bir SVM modelini Radyal Temel Fonksiyonu (RBF) çekirdeği ile eğitirken, iki parametre dikkate alınmalıdır: C ve gamma. C Tüm SVM çekirdeklerinde ortak olan parametre, eğitim örneklerinin yanlış sınıflandırmasını karar yüzeyinin basitliğine karşı değiştirir. Düşük C, karar yüzeyini pürüzsüzleştirir, yüksek C ise tüm eğitim örneklerini doğru şekilde sınıflandırmayı amaçlar. Gamma tek bir eğitim örneğinin model üzerinde ne kadar etkisi olduğunu tanımlar. Gamma ne kadar büyükse, diğer örneklerin etkilenmesi o kadar fazla(yakın) olmalıdır.\n",
    "Doğru C ve gamma seçimi SVM'nin performansı için çok önemlidir.</p>\n",
    "<p style=\"color:darkblue\">Detaylı bilgi ve altında yatan matematik yaklaşımı için <a href=\"https://scikit-learn.org/stable/modules/svm.html#svm-kernels\">buraya</a> ve <a href=\"https://scikit-learn.org/stable/modules/svm.html\">buraya</a> göz atabilirisiniz.</p>"
   ]
  },
  {
   "cell_type": "code",
   "execution_count": 32,
   "metadata": {},
   "outputs": [
    {
     "name": "stdout",
     "output_type": "stream",
     "text": [
      "SVM's Accuracy:0.9856502242152466\n",
      "----------------------------------------------------------------------------------------------------\n",
      "Confusion Matrix \n",
      " [[955   0]\n",
      " [ 16 144]]\n",
      "              precision    recall  f1-score   support\n",
      "\n",
      "           0       0.98      1.00      0.99       955\n",
      "           1       1.00      0.90      0.95       160\n",
      "\n",
      "    accuracy                           0.99      1115\n",
      "   macro avg       0.99      0.95      0.97      1115\n",
      "weighted avg       0.99      0.99      0.99      1115\n",
      "\n"
     ]
    }
   ],
   "source": [
    "clf = svm.SVC(kernel='rbf')\n",
    "clf.fit(X_train, y_train) \n",
    "yhat = clf.predict(X_test)\n",
    "print(\"SVM's Accuracy:{0}\".format(metrics.accuracy_score(y_test, yhat)))\n",
    "print('-'*100)\n",
    "print(\"Confusion Matrix \\n\", confusion_matrix(y_test, yhat))\n",
    "print(classification_report(y_test, yhat))\n",
    "acc.append(metrics.accuracy_score(y_test, yhat))\n"
   ]
  },
  {
   "cell_type": "code",
   "execution_count": 33,
   "metadata": {},
   "outputs": [
    {
     "name": "stdout",
     "output_type": "stream",
     "text": [
      "Decision Tree Accuracy: 0.9775784753363229 \n",
      "\n",
      "----------------------------------------------------------------------------------------------------\n",
      "[[943  12]\n",
      " [ 13 147]]\n",
      "              precision    recall  f1-score   support\n",
      "\n",
      "           0       0.99      0.99      0.99       955\n",
      "           1       0.92      0.92      0.92       160\n",
      "\n",
      "    accuracy                           0.98      1115\n",
      "   macro avg       0.96      0.95      0.95      1115\n",
      "weighted avg       0.98      0.98      0.98      1115\n",
      "\n"
     ]
    }
   ],
   "source": [
    "dtree = DecisionTreeClassifier()\n",
    "dtree.fit(X_train, y_train)\n",
    "pred = dtree.predict(X_test)\n",
    "print('Decision Tree Accuracy: {} \\n'.format(accuracy_score(y_test, pred)))\n",
    "print('-'*100)\n",
    "print(confusion_matrix(y_test, pred))\n",
    "print(classification_report(y_test, pred))\n",
    "acc.append(metrics.accuracy_score(y_test, pred))"
   ]
  },
  {
   "cell_type": "markdown",
   "metadata": {},
   "source": [
    "<p style=\"color:darkblue\">Random forest algoritmasının içerisnde bulunan ve bize oluşturulmak istenen ağaç sayısını belirten <b>n_estimators</b> parametresi sayesinde oluşturmak istediğimiz ağaç sayılarını belirleyip algoritmayı buna göre şekillendirebiliyoruz. Buradaki bu değeri ne kadar arttırırsak o kadar iyi performans alabiliriz. Tabi bu veri setinin büyüklüğü ile de alakalı bir durumdur. Sonuçta bu ağaç sayılarını arttırmanın da bir maliyeti vardır ve kodumuzu oldukça yavaşlatabilir. Bu yüzden veri setiyle optimize olacak şekilde ayarlanmalıdır. </p>\n",
    "<p style=\"color:darkblue\">Daha detaylı bilgi için <a href=\"https://scikit-learn.org/stable/modules/generated/sklearn.ensemble.RandomForestClassifier.html#:~:text=A%20random%20forest%20is%20a,accuracy%20and%20control%20over%2Dfitting.&text=Changed%20in%20version%200.22%3A%20The,10%20to%20100%20in%200.22.\">buraya</a> bakabilirsiniz."
   ]
  },
  {
   "cell_type": "code",
   "execution_count": 34,
   "metadata": {},
   "outputs": [
    {
     "name": "stdout",
     "output_type": "stream",
     "text": [
      "Random Forest Score : 0.9838565022421525\n",
      "----------------------------------------------------------------------------------------------------\n",
      "Confusion Matrix \n",
      " [[954   1]\n",
      " [ 17 143]]\n",
      "              precision    recall  f1-score   support\n",
      "\n",
      "           0       0.98      1.00      0.99       955\n",
      "           1       0.99      0.89      0.94       160\n",
      "\n",
      "    accuracy                           0.98      1115\n",
      "   macro avg       0.99      0.95      0.97      1115\n",
      "weighted avg       0.98      0.98      0.98      1115\n",
      "\n"
     ]
    }
   ],
   "source": [
    "Random_forest = RandomForestClassifier(n_estimators=50,random_state=0)\n",
    "Random_forest.fit(X_train,y_train)\n",
    "randomForest_predict = Random_forest.predict(X_test)\n",
    "randomForest_score = metrics.accuracy_score(y_test, randomForest_predict)\n",
    "print(\"Random Forest Score :\",randomForest_score)\n",
    "print('-'*100)\n",
    "print(\"Confusion Matrix \\n\", confusion_matrix(y_test, randomForest_predict))\n",
    "print(classification_report(y_test, randomForest_predict))\n",
    "acc.append(metrics.accuracy_score(y_test, randomForest_predict))"
   ]
  },
  {
   "cell_type": "code",
   "execution_count": 35,
   "metadata": {},
   "outputs": [
    {
     "name": "stdout",
     "output_type": "stream",
     "text": [
      "Naive Bayes Accuracy: 0.9856502242152466 \n",
      "\n",
      "----------------------------------------------------------------------------------------------------\n",
      "[[947   8]\n",
      " [  8 152]]\n",
      "              precision    recall  f1-score   support\n",
      "\n",
      "           0       0.99      0.99      0.99       955\n",
      "           1       0.95      0.95      0.95       160\n",
      "\n",
      "    accuracy                           0.99      1115\n",
      "   macro avg       0.97      0.97      0.97      1115\n",
      "weighted avg       0.99      0.99      0.99      1115\n",
      "\n"
     ]
    }
   ],
   "source": [
    "mnb = MultinomialNB()\n",
    "mnb.fit(X_train, y_train)\n",
    "pred = mnb.predict(X_test)\n",
    "print('Naive Bayes Accuracy: {} \\n'.format(accuracy_score(y_test, pred)))\n",
    "print('-'*100)\n",
    "print(confusion_matrix(y_test, pred))\n",
    "print(classification_report(y_test, pred))\n",
    "acc.append(metrics.accuracy_score(y_test, pred))"
   ]
  },
  {
   "cell_type": "code",
   "execution_count": 36,
   "metadata": {},
   "outputs": [
    {
     "data": {
      "text/plain": [
       "Text(0, 0.5, 'Accuracy')"
      ]
     },
     "execution_count": 36,
     "metadata": {},
     "output_type": "execute_result"
    },
    {
     "data": {
      "image/png": "[encoded data removed]",
      "text/plain": [
       "<Figure size 720x576 with 1 Axes>"
      ]
     },
     "metadata": {
      "needs_background": "light"
     },
     "output_type": "display_data"
    }
   ],
   "source": [
    "algo_name=['KNN','Logistic Regression','SVM','Decision Tree','Random Forest Classifier','Naive Bayes Classifier']\n",
    "acc=np.array(acc)\n",
    "from numpy import median\n",
    "plt.figure(figsize=(10,8))\n",
    "sns.barplot(y=acc*100,x=algo_name,estimator=median,palette=\"Blues_d\")\n",
    "plt.title(\"Accuracy Values\",size=30)\n",
    "plt.xlabel('Algorithm Name',size=30)\n",
    "plt.xticks(rotation=45)\n",
    "plt.ylabel('Accuracy',size=30)"
   ]
  },
  {
   "cell_type": "markdown",
   "metadata": {},
   "source": [
    "</p> <p style=\"color:darkblue\">Görüldüğü üzere algoritmaların hepsi birbirine yakın sonuçlar vermekle beraber <b>Naive Bayes ve SVM's</b> algoritması 0.9856502242152466 değeri ile en başarılı algoritma olmuştur. Fakat dikkat edilmesi gereken şey Navie Bayes algoritması hem ham mesaj tahmininde hem de spam mesaj tahmininde 8 adet yanlış tahmin yapmış(8 ham,8 spam toplam 16 yanlış tahmin) fakat SVM's algoritması sadece spam mesaj tahmininde 16 yanlış yaparak ham mesajların hepsini doğru tahmin etmiştir. Burada komşuluk matrisi sayesinde gördüğümüz önemli bir nokta var aslında. Bu da şöyledir ki bundan sonraki mesaj tahminlerinde biz ham mesaj tahmini için SVM's algoritmasını spam mesaj tahmini için Navie Bayes algoritmasını kullanabiliriz. Bu ayrımı komşuluk matrisi olmasa yapamayabilirdik. Bakıldığı zaman homojenliği bakımından Navie Bayes biraz daha ön planda durmaktadır. Komşuluk matrisi sayesinde algoritmalarımızı amaçlar doğrultusunda yukarıda verdiğim örnekteki gibi de kullanabiliriz.</p>\n",
    "<p style=\"color:darkblue\">Aşağıya algoritmamızı test etmek için kendi oluşturduğumuz metni girip türünü doğru tahmin etmesini isteyebiliriz. Bu sayede yaptığımız modelinde aktif bir kullanımını gözlemleyebiliriz.</p>"
   ]
  },
  {
   "cell_type": "code",
   "execution_count": 37,
   "metadata": {},
   "outputs": [
    {
     "name": "stdout",
     "output_type": "stream",
     "text": [
      "Mesaj türü: spam\n",
      "Mesaj türü: ham\n",
      "Mesaj türü: ham\n",
      "Mesaj türü: spam\n"
     ]
    }
   ],
   "source": [
    "def sms(text):\n",
    "    lab = ['ham','spam'] \n",
    "    x = cv.transform(text).toarray()\n",
    "    pred = Random_forest.predict(x)\n",
    "    s = [str(i) for i in pred]\n",
    "    a = int(\"\".join(s))\n",
    "    result = str(\"Mesaj türü: \"+ lab[a])\n",
    "    print(result)\n",
    "sms([\"\"\"FreeMsg: Txt: CALL to No: 86888 & claim your reward of 3 hours talk time to use from \n",
    "     your phone now! ubscribe6GBP/ mnth inc 3hrs 16 stop?txtStop\"\"\"])\n",
    "sms([\"\"\"MY NO. IN LUTON 0125698789 RING ME IF UR AROUND! H*\"\"\"])\n",
    "sms([\"\"\"What you doing? how are you? \"\"\"]) \n",
    "sms([\"\"\"URGENT! Your Mobile No 07808726822 was awarded a L2,000 Bonus Caller Prize on 02/09/03!\n",
    "This is our 2nd attempt to contact YOU! Call 0871-872-9758 BOX95QU\"\"\"])"
   ]
  }
 ],
 "metadata": {
  "kernelspec": {
   "display_name": "Python 3",
   "language": "python",
   "name": "python3"
  },
  "language_info": {
   "codemirror_mode": {
    "name": "ipython",
    "version": 3
   },
   "file_extension": ".py",
   "mimetype": "text/x-python",
   "name": "python",
   "nbconvert_exporter": "python",
   "pygments_lexer": "ipython3",
   "version": "3.8.5"
  }
 },
 "nbformat": 4,
 "nbformat_minor": 4
}
